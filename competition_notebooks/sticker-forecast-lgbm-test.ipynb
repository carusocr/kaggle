{
 "cells": [
  {
   "cell_type": "code",
   "execution_count": 1,
   "id": "bcab555e",
   "metadata": {
    "_cell_guid": "b1076dfc-b9ad-4769-8c92-a6c4dae69d19",
    "_uuid": "8f2839f25d086af736a60e9eeb907d3b93b6e0e5",
    "execution": {
     "iopub.execute_input": "2025-01-23T00:58:49.559319Z",
     "iopub.status.busy": "2025-01-23T00:58:49.558947Z",
     "iopub.status.idle": "2025-01-23T00:58:59.543933Z",
     "shell.execute_reply": "2025-01-23T00:58:59.541981Z"
    },
    "papermill": {
     "duration": 9.992293,
     "end_time": "2025-01-23T00:58:59.546890",
     "exception": false,
     "start_time": "2025-01-23T00:58:49.554597",
     "status": "completed"
    },
    "tags": []
   },
   "outputs": [
    {
     "name": "stdout",
     "output_type": "stream",
     "text": [
      "/kaggle/input/playground-series-s5e1/sample_submission.csv\n",
      "/kaggle/input/playground-series-s5e1/train.csv\n",
      "/kaggle/input/playground-series-s5e1/test.csv\n",
      "/kaggle/input/andro-preprocess-sticker-forecasting-competition/train_data.csv\n",
      "/kaggle/input/andro-preprocess-sticker-forecasting-competition/test_data.csv\n",
      "/kaggle/input/androlgbmensemblepipeline/other/default/1/AndroLGBMEnsemblePipeline.py\n",
      "/kaggle/input/lgbm-params-json/lgbm_params.json\n"
     ]
    }
   ],
   "source": [
    "# This Python 3 environment comes with many helpful analytics libraries installed\n",
    "# It is defined by the kaggle/python Docker image: https://github.com/kaggle/docker-python\n",
    "# For example, here's several helpful packages to load\n",
    "\n",
    "import numpy as np # linear algebra\n",
    "import pandas as pd # data processing, CSV file I/O (e.g. pd.read_csv)\n",
    "import warnings\n",
    "import seaborn as sns\n",
    "from sklearn.metrics import mean_absolute_percentage_error\n",
    "import matplotlib.pyplot as plt\n",
    "import catboost as cb\n",
    "import lightgbm as lgb\n",
    "import xgboost as xgb\n",
    "from catboost import CatBoostRegressor, Pool\n",
    "import sys\n",
    "\n",
    "\n",
    "\n",
    "# Input data files are available in the read-only \"../input/\" directory\n",
    "# For example, running this (by clicking run or pressing Shift+Enter) will list all files under the input directory\n",
    "warnings.filterwarnings('ignore')\n",
    "\n",
    "import os\n",
    "for dirname, _, filenames in os.walk('/kaggle/input'):\n",
    "    for filename in filenames:\n",
    "        print(os.path.join(dirname, filename))\n",
    "\n",
    "!cp -r /kaggle/input/androlgbmensemblepipeline/other/default/1/* /kaggle/working\n",
    "sys.path.append('/kaggle/working/AndroLGBMEnsemblePipeline.py')\n",
    "from AndroLGBMEnsemblePipeline import AndroLGBMEnsemblePipeline\n",
    "\n",
    "# You can write up to 20GB to the current directory (/kaggle/working/) that gets preserved as output when you create a version using \"Save & Run All\" \n",
    "# You can also write temporary files to /kaggle/temp/, but they won't be saved outside of the current session"
   ]
  },
  {
   "cell_type": "code",
   "execution_count": 2,
   "id": "070d1a3a",
   "metadata": {
    "execution": {
     "iopub.execute_input": "2025-01-23T00:58:59.554691Z",
     "iopub.status.busy": "2025-01-23T00:58:59.553364Z",
     "iopub.status.idle": "2025-01-23T00:59:00.130196Z",
     "shell.execute_reply": "2025-01-23T00:59:00.128889Z"
    },
    "papermill": {
     "duration": 0.582616,
     "end_time": "2025-01-23T00:59:00.132466",
     "exception": false,
     "start_time": "2025-01-23T00:58:59.549850",
     "status": "completed"
    },
    "tags": []
   },
   "outputs": [
    {
     "data": {
      "text/html": [
       "<div>\n",
       "<style scoped>\n",
       "    .dataframe tbody tr th:only-of-type {\n",
       "        vertical-align: middle;\n",
       "    }\n",
       "\n",
       "    .dataframe tbody tr th {\n",
       "        vertical-align: top;\n",
       "    }\n",
       "\n",
       "    .dataframe thead th {\n",
       "        text-align: right;\n",
       "    }\n",
       "</style>\n",
       "<table border=\"1\" class=\"dataframe\">\n",
       "  <thead>\n",
       "    <tr style=\"text-align: right;\">\n",
       "      <th></th>\n",
       "      <th>id</th>\n",
       "      <th>date</th>\n",
       "      <th>country</th>\n",
       "      <th>store</th>\n",
       "      <th>product</th>\n",
       "      <th>num_sold</th>\n",
       "    </tr>\n",
       "  </thead>\n",
       "  <tbody>\n",
       "    <tr>\n",
       "      <th>0</th>\n",
       "      <td>0</td>\n",
       "      <td>2010-01-01</td>\n",
       "      <td>Canada</td>\n",
       "      <td>Discount Stickers</td>\n",
       "      <td>Holographic Goose</td>\n",
       "      <td>NaN</td>\n",
       "    </tr>\n",
       "    <tr>\n",
       "      <th>1</th>\n",
       "      <td>1</td>\n",
       "      <td>2010-01-01</td>\n",
       "      <td>Canada</td>\n",
       "      <td>Discount Stickers</td>\n",
       "      <td>Kaggle</td>\n",
       "      <td>973.0</td>\n",
       "    </tr>\n",
       "    <tr>\n",
       "      <th>2</th>\n",
       "      <td>2</td>\n",
       "      <td>2010-01-01</td>\n",
       "      <td>Canada</td>\n",
       "      <td>Discount Stickers</td>\n",
       "      <td>Kaggle Tiers</td>\n",
       "      <td>906.0</td>\n",
       "    </tr>\n",
       "    <tr>\n",
       "      <th>3</th>\n",
       "      <td>3</td>\n",
       "      <td>2010-01-01</td>\n",
       "      <td>Canada</td>\n",
       "      <td>Discount Stickers</td>\n",
       "      <td>Kerneler</td>\n",
       "      <td>423.0</td>\n",
       "    </tr>\n",
       "    <tr>\n",
       "      <th>4</th>\n",
       "      <td>4</td>\n",
       "      <td>2010-01-01</td>\n",
       "      <td>Canada</td>\n",
       "      <td>Discount Stickers</td>\n",
       "      <td>Kerneler Dark Mode</td>\n",
       "      <td>491.0</td>\n",
       "    </tr>\n",
       "  </tbody>\n",
       "</table>\n",
       "</div>"
      ],
      "text/plain": [
       "   id        date country              store             product  num_sold\n",
       "0   0  2010-01-01  Canada  Discount Stickers   Holographic Goose       NaN\n",
       "1   1  2010-01-01  Canada  Discount Stickers              Kaggle     973.0\n",
       "2   2  2010-01-01  Canada  Discount Stickers        Kaggle Tiers     906.0\n",
       "3   3  2010-01-01  Canada  Discount Stickers            Kerneler     423.0\n",
       "4   4  2010-01-01  Canada  Discount Stickers  Kerneler Dark Mode     491.0"
      ]
     },
     "execution_count": 2,
     "metadata": {},
     "output_type": "execute_result"
    }
   ],
   "source": [
    "train = pd.read_csv('/kaggle/input/playground-series-s5e1/train.csv')\n",
    "test = pd.read_csv('/kaggle/input/playground-series-s5e1/test.csv')\n",
    "submission = pd.read_csv('/kaggle/input/playground-series-s5e1/sample_submission.csv')\n",
    "\n",
    "train.head()"
   ]
  },
  {
   "cell_type": "code",
   "execution_count": 3,
   "id": "cedff115",
   "metadata": {
    "execution": {
     "iopub.execute_input": "2025-01-23T00:59:00.139688Z",
     "iopub.status.busy": "2025-01-23T00:59:00.139272Z",
     "iopub.status.idle": "2025-01-23T00:59:01.727707Z",
     "shell.execute_reply": "2025-01-23T00:59:01.726506Z"
    },
    "papermill": {
     "duration": 1.594392,
     "end_time": "2025-01-23T00:59:01.729888",
     "exception": false,
     "start_time": "2025-01-23T00:59:00.135496",
     "status": "completed"
    },
    "tags": []
   },
   "outputs": [],
   "source": [
    "# See how LGBM does\n",
    "\n",
    "pipeline = AndroLGBMEnsemblePipeline('/kaggle/input/lgbm-params-json/lgbm_params.json')\n",
    "pipeline.load_data('/kaggle/input/andro-preprocess-sticker-forecasting-competition/train_data.csv', \n",
    "                '/kaggle/input/andro-preprocess-sticker-forecasting-competition/test_data.csv')"
   ]
  },
  {
   "cell_type": "code",
   "execution_count": 4,
   "id": "b65db15b",
   "metadata": {
    "execution": {
     "iopub.execute_input": "2025-01-23T00:59:01.738164Z",
     "iopub.status.busy": "2025-01-23T00:59:01.737754Z",
     "iopub.status.idle": "2025-01-23T00:59:02.083450Z",
     "shell.execute_reply": "2025-01-23T00:59:02.082193Z"
    },
    "papermill": {
     "duration": 0.353059,
     "end_time": "2025-01-23T00:59:02.085777",
     "exception": false,
     "start_time": "2025-01-23T00:59:01.732718",
     "status": "completed"
    },
    "tags": []
   },
   "outputs": [],
   "source": [
    "pipeline.label_encode()\n",
    "#pipeline.plot_distributions()\n",
    "#pipeline.plot_eda()\n"
   ]
  },
  {
   "cell_type": "code",
   "execution_count": 5,
   "id": "a4e9a2f0",
   "metadata": {
    "execution": {
     "iopub.execute_input": "2025-01-23T00:59:02.093259Z",
     "iopub.status.busy": "2025-01-23T00:59:02.092862Z",
     "iopub.status.idle": "2025-01-23T00:59:14.091550Z",
     "shell.execute_reply": "2025-01-23T00:59:14.090159Z"
    },
    "papermill": {
     "duration": 12.004242,
     "end_time": "2025-01-23T00:59:14.093206",
     "exception": false,
     "start_time": "2025-01-23T00:59:02.088964",
     "status": "completed"
    },
    "tags": []
   },
   "outputs": [
    {
     "name": "stdout",
     "output_type": "stream",
     "text": [
      "[LightGBM] [Warning] min_data_in_leaf is set=40, min_child_samples=20 will be ignored. Current value: min_data_in_leaf=40\n",
      "[LightGBM] [Warning] min_data_in_leaf is set=40, min_child_samples=20 will be ignored. Current value: min_data_in_leaf=40\n",
      "[LightGBM] [Info] Auto-choosing row-wise multi-threading, the overhead of testing was 0.010447 seconds.\n",
      "You can set `force_row_wise=true` to remove the overhead.\n",
      "And if memory is not enough, you can set `force_col_wise=true`.\n",
      "[LightGBM] [Info] Total Bins 494\n",
      "[LightGBM] [Info] Number of data points in the train set: 177007, number of used features: 17\n",
      "[LightGBM] [Warning] min_data_in_leaf is set=40, min_child_samples=20 will be ignored. Current value: min_data_in_leaf=40\n",
      "[LightGBM] [Info] Start training from score 5.936249\n",
      "[LightGBM] [Warning] min_data_in_leaf is set=40, min_child_samples=20 will be ignored. Current value: min_data_in_leaf=40\n",
      "[LightGBM] [Warning] min_data_in_leaf is set=40, min_child_samples=20 will be ignored. Current value: min_data_in_leaf=40\n",
      "LightGBM Fold 1 mape: 3.9172747363927907\n",
      "[LightGBM] [Warning] min_data_in_leaf is set=40, min_child_samples=20 will be ignored. Current value: min_data_in_leaf=40\n",
      "[LightGBM] [Warning] min_data_in_leaf is set=40, min_child_samples=20 will be ignored. Current value: min_data_in_leaf=40\n",
      "[LightGBM] [Info] Auto-choosing row-wise multi-threading, the overhead of testing was 0.007534 seconds.\n",
      "You can set `force_row_wise=true` to remove the overhead.\n",
      "And if memory is not enough, you can set `force_col_wise=true`.\n",
      "[LightGBM] [Info] Total Bins 494\n",
      "[LightGBM] [Info] Number of data points in the train set: 177007, number of used features: 17\n",
      "[LightGBM] [Warning] min_data_in_leaf is set=40, min_child_samples=20 will be ignored. Current value: min_data_in_leaf=40\n",
      "[LightGBM] [Info] Start training from score 5.937891\n",
      "[LightGBM] [Warning] min_data_in_leaf is set=40, min_child_samples=20 will be ignored. Current value: min_data_in_leaf=40\n",
      "[LightGBM] [Warning] min_data_in_leaf is set=40, min_child_samples=20 will be ignored. Current value: min_data_in_leaf=40\n",
      "LightGBM Fold 2 mape: 3.9342625196110945\n",
      "[LightGBM] [Warning] min_data_in_leaf is set=40, min_child_samples=20 will be ignored. Current value: min_data_in_leaf=40\n",
      "[LightGBM] [Warning] min_data_in_leaf is set=40, min_child_samples=20 will be ignored. Current value: min_data_in_leaf=40\n",
      "[LightGBM] [Info] Auto-choosing row-wise multi-threading, the overhead of testing was 0.007123 seconds.\n",
      "You can set `force_row_wise=true` to remove the overhead.\n",
      "And if memory is not enough, you can set `force_col_wise=true`.\n",
      "[LightGBM] [Info] Total Bins 494\n",
      "[LightGBM] [Info] Number of data points in the train set: 177007, number of used features: 17\n",
      "[LightGBM] [Warning] min_data_in_leaf is set=40, min_child_samples=20 will be ignored. Current value: min_data_in_leaf=40\n",
      "[LightGBM] [Info] Start training from score 5.939018\n",
      "[LightGBM] [Warning] min_data_in_leaf is set=40, min_child_samples=20 will be ignored. Current value: min_data_in_leaf=40\n",
      "[LightGBM] [Warning] min_data_in_leaf is set=40, min_child_samples=20 will be ignored. Current value: min_data_in_leaf=40\n",
      "LightGBM Fold 3 mape: 3.91934624026755\n",
      "[LightGBM] [Warning] min_data_in_leaf is set=40, min_child_samples=20 will be ignored. Current value: min_data_in_leaf=40\n",
      "[LightGBM] [Warning] min_data_in_leaf is set=40, min_child_samples=20 will be ignored. Current value: min_data_in_leaf=40\n",
      "[LightGBM] [Info] Auto-choosing row-wise multi-threading, the overhead of testing was 0.007127 seconds.\n",
      "You can set `force_row_wise=true` to remove the overhead.\n",
      "And if memory is not enough, you can set `force_col_wise=true`.\n",
      "[LightGBM] [Info] Total Bins 494\n",
      "[LightGBM] [Info] Number of data points in the train set: 177007, number of used features: 17\n",
      "[LightGBM] [Warning] min_data_in_leaf is set=40, min_child_samples=20 will be ignored. Current value: min_data_in_leaf=40\n",
      "[LightGBM] [Info] Start training from score 5.939573\n",
      "[LightGBM] [Warning] min_data_in_leaf is set=40, min_child_samples=20 will be ignored. Current value: min_data_in_leaf=40\n",
      "[LightGBM] [Warning] min_data_in_leaf is set=40, min_child_samples=20 will be ignored. Current value: min_data_in_leaf=40\n",
      "LightGBM Fold 4 mape: 4.01793280327828\n",
      "[LightGBM] [Warning] min_data_in_leaf is set=40, min_child_samples=20 will be ignored. Current value: min_data_in_leaf=40\n",
      "[LightGBM] [Warning] min_data_in_leaf is set=40, min_child_samples=20 will be ignored. Current value: min_data_in_leaf=40\n",
      "[LightGBM] [Info] Auto-choosing row-wise multi-threading, the overhead of testing was 0.007508 seconds.\n",
      "You can set `force_row_wise=true` to remove the overhead.\n",
      "And if memory is not enough, you can set `force_col_wise=true`.\n",
      "[LightGBM] [Info] Total Bins 494\n",
      "[LightGBM] [Info] Number of data points in the train set: 177008, number of used features: 17\n",
      "[LightGBM] [Warning] min_data_in_leaf is set=40, min_child_samples=20 will be ignored. Current value: min_data_in_leaf=40\n",
      "[LightGBM] [Info] Start training from score 5.937063\n",
      "[LightGBM] [Warning] min_data_in_leaf is set=40, min_child_samples=20 will be ignored. Current value: min_data_in_leaf=40\n",
      "[LightGBM] [Warning] min_data_in_leaf is set=40, min_child_samples=20 will be ignored. Current value: min_data_in_leaf=40\n",
      "LightGBM Fold 5 mape: 3.8478297795748126\n",
      "LightGBM mape: 3.92733\n",
      "submission.csv successfully saved !!\n",
      "       id    num_sold\n",
      "0  230130  351.578439\n",
      "1  230131  396.953342\n",
      "2  230132  393.194351\n",
      "3  230133  383.462199\n",
      "4  230134  385.535463\n"
     ]
    }
   ],
   "source": [
    "pipeline.train_model()\n"
   ]
  },
  {
   "cell_type": "code",
   "execution_count": null,
   "id": "cb41adc4",
   "metadata": {
    "papermill": {
     "duration": 0.003071,
     "end_time": "2025-01-23T00:59:14.099898",
     "exception": false,
     "start_time": "2025-01-23T00:59:14.096827",
     "status": "completed"
    },
    "tags": []
   },
   "outputs": [],
   "source": []
  }
 ],
 "metadata": {
  "kaggle": {
   "accelerator": "none",
   "dataSources": [
    {
     "databundleVersionId": 10652996,
     "sourceId": 85723,
     "sourceType": "competition"
    },
    {
     "datasetId": 6413696,
     "sourceId": 10356482,
     "sourceType": "datasetVersion"
    },
    {
     "datasetId": 6523670,
     "sourceId": 10553344,
     "sourceType": "datasetVersion"
    },
    {
     "modelId": 207293,
     "modelInstanceId": 185150,
     "sourceId": 217144,
     "sourceType": "modelInstanceVersion"
    }
   ],
   "dockerImageVersionId": 30839,
   "isGpuEnabled": false,
   "isInternetEnabled": true,
   "language": "python",
   "sourceType": "notebook"
  },
  "kernelspec": {
   "display_name": "Python 3",
   "language": "python",
   "name": "python3"
  },
  "language_info": {
   "codemirror_mode": {
    "name": "ipython",
    "version": 3
   },
   "file_extension": ".py",
   "mimetype": "text/x-python",
   "name": "python",
   "nbconvert_exporter": "python",
   "pygments_lexer": "ipython3",
   "version": "3.10.12"
  },
  "papermill": {
   "default_parameters": {},
   "duration": 28.81557,
   "end_time": "2025-01-23T00:59:15.326617",
   "environment_variables": {},
   "exception": null,
   "input_path": "__notebook__.ipynb",
   "output_path": "__notebook__.ipynb",
   "parameters": {},
   "start_time": "2025-01-23T00:58:46.511047",
   "version": "2.6.0"
  }
 },
 "nbformat": 4,
 "nbformat_minor": 5
}
