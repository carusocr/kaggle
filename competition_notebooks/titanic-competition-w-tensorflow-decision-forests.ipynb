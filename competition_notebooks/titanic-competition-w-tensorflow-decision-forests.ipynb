{
 "cells": [
  {
   "cell_type": "markdown",
   "id": "df3b4440",
   "metadata": {
    "papermill": {
     "duration": 0.006278,
     "end_time": "2025-01-27T21:36:38.678532",
     "exception": false,
     "start_time": "2025-01-27T21:36:38.672254",
     "status": "completed"
    },
    "tags": []
   },
   "source": [
    "# Titanic competition with TensorFlow Decision Forests\n",
    "\n",
    "This notebook will take you through the steps needed to train a baseline Gradient Boosted Trees Model using TensorFlow Decision Forests and creating a submission on the Titanic competition. \n",
    "\n",
    "This notebook shows:\n",
    "\n",
    "1. How to do some basic pre-processing. For example, the passenger names will be tokenized, and ticket names will be splitted in parts.\n",
    "1. How to train a Gradient Boosted Trees (GBT) with default parameters\n",
    "1. How to train a GBT with improved default parameters\n",
    "1. How to tune the parameters of a GBTs\n",
    "1. How to train and ensemble many GBTs"
   ]
  },
  {
   "cell_type": "markdown",
   "id": "bc78ecd0",
   "metadata": {
    "papermill": {
     "duration": 0.004854,
     "end_time": "2025-01-27T21:36:38.688616",
     "exception": false,
     "start_time": "2025-01-27T21:36:38.683762",
     "status": "completed"
    },
    "tags": []
   },
   "source": [
    "# Imports dependencies"
   ]
  },
  {
   "cell_type": "code",
   "execution_count": 1,
   "id": "58a8e588",
   "metadata": {
    "execution": {
     "iopub.execute_input": "2025-01-27T21:36:38.702112Z",
     "iopub.status.busy": "2025-01-27T21:36:38.700804Z",
     "iopub.status.idle": "2025-01-27T21:36:48.975742Z",
     "shell.execute_reply": "2025-01-27T21:36:48.974153Z"
    },
    "papermill": {
     "duration": 10.285436,
     "end_time": "2025-01-27T21:36:48.979290",
     "exception": false,
     "start_time": "2025-01-27T21:36:38.693854",
     "status": "completed"
    },
    "tags": []
   },
   "outputs": [
    {
     "name": "stdout",
     "output_type": "stream",
     "text": [
      "Found TF-DF 1.2.0\n"
     ]
    }
   ],
   "source": [
    "import numpy as np\n",
    "import pandas as pd\n",
    "import os\n",
    "\n",
    "import tensorflow as tf\n",
    "import tensorflow_decision_forests as tfdf\n",
    "\n",
    "print(f\"Found TF-DF {tfdf.__version__}\")"
   ]
  },
  {
   "cell_type": "markdown",
   "id": "3b4e0a50",
   "metadata": {
    "papermill": {
     "duration": 0.004795,
     "end_time": "2025-01-27T21:36:48.989499",
     "exception": false,
     "start_time": "2025-01-27T21:36:48.984704",
     "status": "completed"
    },
    "tags": []
   },
   "source": [
    "# Load dataset"
   ]
  },
  {
   "cell_type": "code",
   "execution_count": 2,
   "id": "a28d9995",
   "metadata": {
    "execution": {
     "iopub.execute_input": "2025-01-27T21:36:49.001709Z",
     "iopub.status.busy": "2025-01-27T21:36:49.001057Z",
     "iopub.status.idle": "2025-01-27T21:36:49.062511Z",
     "shell.execute_reply": "2025-01-27T21:36:49.061188Z"
    },
    "papermill": {
     "duration": 0.070714,
     "end_time": "2025-01-27T21:36:49.065230",
     "exception": false,
     "start_time": "2025-01-27T21:36:48.994516",
     "status": "completed"
    },
    "tags": []
   },
   "outputs": [
    {
     "data": {
      "text/html": [
       "<div>\n",
       "<style scoped>\n",
       "    .dataframe tbody tr th:only-of-type {\n",
       "        vertical-align: middle;\n",
       "    }\n",
       "\n",
       "    .dataframe tbody tr th {\n",
       "        vertical-align: top;\n",
       "    }\n",
       "\n",
       "    .dataframe thead th {\n",
       "        text-align: right;\n",
       "    }\n",
       "</style>\n",
       "<table border=\"1\" class=\"dataframe\">\n",
       "  <thead>\n",
       "    <tr style=\"text-align: right;\">\n",
       "      <th></th>\n",
       "      <th>PassengerId</th>\n",
       "      <th>Survived</th>\n",
       "      <th>Pclass</th>\n",
       "      <th>Name</th>\n",
       "      <th>Sex</th>\n",
       "      <th>Age</th>\n",
       "      <th>SibSp</th>\n",
       "      <th>Parch</th>\n",
       "      <th>Ticket</th>\n",
       "      <th>Fare</th>\n",
       "      <th>Cabin</th>\n",
       "      <th>Embarked</th>\n",
       "    </tr>\n",
       "  </thead>\n",
       "  <tbody>\n",
       "    <tr>\n",
       "      <th>0</th>\n",
       "      <td>1</td>\n",
       "      <td>0</td>\n",
       "      <td>3</td>\n",
       "      <td>Braund, Mr. Owen Harris</td>\n",
       "      <td>male</td>\n",
       "      <td>22.0</td>\n",
       "      <td>1</td>\n",
       "      <td>0</td>\n",
       "      <td>A/5 21171</td>\n",
       "      <td>7.2500</td>\n",
       "      <td>NaN</td>\n",
       "      <td>S</td>\n",
       "    </tr>\n",
       "    <tr>\n",
       "      <th>1</th>\n",
       "      <td>2</td>\n",
       "      <td>1</td>\n",
       "      <td>1</td>\n",
       "      <td>Cumings, Mrs. John Bradley (Florence Briggs Th...</td>\n",
       "      <td>female</td>\n",
       "      <td>38.0</td>\n",
       "      <td>1</td>\n",
       "      <td>0</td>\n",
       "      <td>PC 17599</td>\n",
       "      <td>71.2833</td>\n",
       "      <td>C85</td>\n",
       "      <td>C</td>\n",
       "    </tr>\n",
       "    <tr>\n",
       "      <th>2</th>\n",
       "      <td>3</td>\n",
       "      <td>1</td>\n",
       "      <td>3</td>\n",
       "      <td>Heikkinen, Miss. Laina</td>\n",
       "      <td>female</td>\n",
       "      <td>26.0</td>\n",
       "      <td>0</td>\n",
       "      <td>0</td>\n",
       "      <td>STON/O2. 3101282</td>\n",
       "      <td>7.9250</td>\n",
       "      <td>NaN</td>\n",
       "      <td>S</td>\n",
       "    </tr>\n",
       "    <tr>\n",
       "      <th>3</th>\n",
       "      <td>4</td>\n",
       "      <td>1</td>\n",
       "      <td>1</td>\n",
       "      <td>Futrelle, Mrs. Jacques Heath (Lily May Peel)</td>\n",
       "      <td>female</td>\n",
       "      <td>35.0</td>\n",
       "      <td>1</td>\n",
       "      <td>0</td>\n",
       "      <td>113803</td>\n",
       "      <td>53.1000</td>\n",
       "      <td>C123</td>\n",
       "      <td>S</td>\n",
       "    </tr>\n",
       "    <tr>\n",
       "      <th>4</th>\n",
       "      <td>5</td>\n",
       "      <td>0</td>\n",
       "      <td>3</td>\n",
       "      <td>Allen, Mr. William Henry</td>\n",
       "      <td>male</td>\n",
       "      <td>35.0</td>\n",
       "      <td>0</td>\n",
       "      <td>0</td>\n",
       "      <td>373450</td>\n",
       "      <td>8.0500</td>\n",
       "      <td>NaN</td>\n",
       "      <td>S</td>\n",
       "    </tr>\n",
       "    <tr>\n",
       "      <th>5</th>\n",
       "      <td>6</td>\n",
       "      <td>0</td>\n",
       "      <td>3</td>\n",
       "      <td>Moran, Mr. James</td>\n",
       "      <td>male</td>\n",
       "      <td>NaN</td>\n",
       "      <td>0</td>\n",
       "      <td>0</td>\n",
       "      <td>330877</td>\n",
       "      <td>8.4583</td>\n",
       "      <td>NaN</td>\n",
       "      <td>Q</td>\n",
       "    </tr>\n",
       "    <tr>\n",
       "      <th>6</th>\n",
       "      <td>7</td>\n",
       "      <td>0</td>\n",
       "      <td>1</td>\n",
       "      <td>McCarthy, Mr. Timothy J</td>\n",
       "      <td>male</td>\n",
       "      <td>54.0</td>\n",
       "      <td>0</td>\n",
       "      <td>0</td>\n",
       "      <td>17463</td>\n",
       "      <td>51.8625</td>\n",
       "      <td>E46</td>\n",
       "      <td>S</td>\n",
       "    </tr>\n",
       "    <tr>\n",
       "      <th>7</th>\n",
       "      <td>8</td>\n",
       "      <td>0</td>\n",
       "      <td>3</td>\n",
       "      <td>Palsson, Master. Gosta Leonard</td>\n",
       "      <td>male</td>\n",
       "      <td>2.0</td>\n",
       "      <td>3</td>\n",
       "      <td>1</td>\n",
       "      <td>349909</td>\n",
       "      <td>21.0750</td>\n",
       "      <td>NaN</td>\n",
       "      <td>S</td>\n",
       "    </tr>\n",
       "    <tr>\n",
       "      <th>8</th>\n",
       "      <td>9</td>\n",
       "      <td>1</td>\n",
       "      <td>3</td>\n",
       "      <td>Johnson, Mrs. Oscar W (Elisabeth Vilhelmina Berg)</td>\n",
       "      <td>female</td>\n",
       "      <td>27.0</td>\n",
       "      <td>0</td>\n",
       "      <td>2</td>\n",
       "      <td>347742</td>\n",
       "      <td>11.1333</td>\n",
       "      <td>NaN</td>\n",
       "      <td>S</td>\n",
       "    </tr>\n",
       "    <tr>\n",
       "      <th>9</th>\n",
       "      <td>10</td>\n",
       "      <td>1</td>\n",
       "      <td>2</td>\n",
       "      <td>Nasser, Mrs. Nicholas (Adele Achem)</td>\n",
       "      <td>female</td>\n",
       "      <td>14.0</td>\n",
       "      <td>1</td>\n",
       "      <td>0</td>\n",
       "      <td>237736</td>\n",
       "      <td>30.0708</td>\n",
       "      <td>NaN</td>\n",
       "      <td>C</td>\n",
       "    </tr>\n",
       "  </tbody>\n",
       "</table>\n",
       "</div>"
      ],
      "text/plain": [
       "   PassengerId  Survived  Pclass  \\\n",
       "0            1         0       3   \n",
       "1            2         1       1   \n",
       "2            3         1       3   \n",
       "3            4         1       1   \n",
       "4            5         0       3   \n",
       "5            6         0       3   \n",
       "6            7         0       1   \n",
       "7            8         0       3   \n",
       "8            9         1       3   \n",
       "9           10         1       2   \n",
       "\n",
       "                                                Name     Sex   Age  SibSp  \\\n",
       "0                            Braund, Mr. Owen Harris    male  22.0      1   \n",
       "1  Cumings, Mrs. John Bradley (Florence Briggs Th...  female  38.0      1   \n",
       "2                             Heikkinen, Miss. Laina  female  26.0      0   \n",
       "3       Futrelle, Mrs. Jacques Heath (Lily May Peel)  female  35.0      1   \n",
       "4                           Allen, Mr. William Henry    male  35.0      0   \n",
       "5                                   Moran, Mr. James    male   NaN      0   \n",
       "6                            McCarthy, Mr. Timothy J    male  54.0      0   \n",
       "7                     Palsson, Master. Gosta Leonard    male   2.0      3   \n",
       "8  Johnson, Mrs. Oscar W (Elisabeth Vilhelmina Berg)  female  27.0      0   \n",
       "9                Nasser, Mrs. Nicholas (Adele Achem)  female  14.0      1   \n",
       "\n",
       "   Parch            Ticket     Fare Cabin Embarked  \n",
       "0      0         A/5 21171   7.2500   NaN        S  \n",
       "1      0          PC 17599  71.2833   C85        C  \n",
       "2      0  STON/O2. 3101282   7.9250   NaN        S  \n",
       "3      0            113803  53.1000  C123        S  \n",
       "4      0            373450   8.0500   NaN        S  \n",
       "5      0            330877   8.4583   NaN        Q  \n",
       "6      0             17463  51.8625   E46        S  \n",
       "7      1            349909  21.0750   NaN        S  \n",
       "8      2            347742  11.1333   NaN        S  \n",
       "9      0            237736  30.0708   NaN        C  "
      ]
     },
     "execution_count": 2,
     "metadata": {},
     "output_type": "execute_result"
    }
   ],
   "source": [
    "train_df = pd.read_csv(\"/kaggle/input/titanic/train.csv\")\n",
    "serving_df = pd.read_csv(\"/kaggle/input/titanic/test.csv\")\n",
    "\n",
    "train_df.head(10)"
   ]
  },
  {
   "cell_type": "code",
   "execution_count": 3,
   "id": "2b9863d3",
   "metadata": {
    "execution": {
     "iopub.execute_input": "2025-01-27T21:36:49.078325Z",
     "iopub.status.busy": "2025-01-27T21:36:49.077874Z",
     "iopub.status.idle": "2025-01-27T21:36:49.091617Z",
     "shell.execute_reply": "2025-01-27T21:36:49.090262Z"
    },
    "papermill": {
     "duration": 0.023456,
     "end_time": "2025-01-27T21:36:49.094206",
     "exception": false,
     "start_time": "2025-01-27T21:36:49.070750",
     "status": "completed"
    },
    "tags": []
   },
   "outputs": [
    {
     "name": "stdout",
     "output_type": "stream",
     "text": [
      "% of women who survived: 0.9680851063829787\n"
     ]
    }
   ],
   "source": [
    "women = train_df.loc[train_df.Sex == 'female'].loc[train_df.Pclass == 1][\"Survived\"]\n",
    "rate_women = sum(women)/len(women)\n",
    "\n",
    "print(\"% of women who survived:\", rate_women)\n",
    "\n"
   ]
  },
  {
   "cell_type": "markdown",
   "id": "9d4880ec",
   "metadata": {
    "papermill": {
     "duration": 0.005145,
     "end_time": "2025-01-27T21:36:49.105021",
     "exception": false,
     "start_time": "2025-01-27T21:36:49.099876",
     "status": "completed"
    },
    "tags": []
   },
   "source": [
    "# Prepare dataset\n",
    "\n",
    "We will apply the following transformations on the dataset.\n",
    "\n",
    "1. Tokenize the names. For example, \"Braund, Mr. Owen Harris\" will become [\"Braund\", \"Mr.\", \"Owen\", \"Harris\"].\n",
    "2. Extract any prefix in the ticket. For example ticket \"STON/O2. 3101282\" will become \"STON/O2.\" and 3101282."
   ]
  },
  {
   "cell_type": "code",
   "execution_count": 4,
   "id": "0510c170",
   "metadata": {
    "execution": {
     "iopub.execute_input": "2025-01-27T21:36:49.118429Z",
     "iopub.status.busy": "2025-01-27T21:36:49.117209Z",
     "iopub.status.idle": "2025-01-27T21:36:49.148281Z",
     "shell.execute_reply": "2025-01-27T21:36:49.146842Z"
    },
    "papermill": {
     "duration": 0.04029,
     "end_time": "2025-01-27T21:36:49.150673",
     "exception": false,
     "start_time": "2025-01-27T21:36:49.110383",
     "status": "completed"
    },
    "tags": []
   },
   "outputs": [
    {
     "data": {
      "text/html": [
       "<div>\n",
       "<style scoped>\n",
       "    .dataframe tbody tr th:only-of-type {\n",
       "        vertical-align: middle;\n",
       "    }\n",
       "\n",
       "    .dataframe tbody tr th {\n",
       "        vertical-align: top;\n",
       "    }\n",
       "\n",
       "    .dataframe thead th {\n",
       "        text-align: right;\n",
       "    }\n",
       "</style>\n",
       "<table border=\"1\" class=\"dataframe\">\n",
       "  <thead>\n",
       "    <tr style=\"text-align: right;\">\n",
       "      <th></th>\n",
       "      <th>PassengerId</th>\n",
       "      <th>Survived</th>\n",
       "      <th>Pclass</th>\n",
       "      <th>Name</th>\n",
       "      <th>Sex</th>\n",
       "      <th>Age</th>\n",
       "      <th>SibSp</th>\n",
       "      <th>Parch</th>\n",
       "      <th>Ticket</th>\n",
       "      <th>Fare</th>\n",
       "      <th>Cabin</th>\n",
       "      <th>Embarked</th>\n",
       "      <th>Ticket_number</th>\n",
       "      <th>Ticket_item</th>\n",
       "    </tr>\n",
       "  </thead>\n",
       "  <tbody>\n",
       "    <tr>\n",
       "      <th>0</th>\n",
       "      <td>1</td>\n",
       "      <td>0</td>\n",
       "      <td>3</td>\n",
       "      <td>Braund Mr Owen Harris</td>\n",
       "      <td>male</td>\n",
       "      <td>22.0</td>\n",
       "      <td>1</td>\n",
       "      <td>0</td>\n",
       "      <td>A/5 21171</td>\n",
       "      <td>7.2500</td>\n",
       "      <td>NaN</td>\n",
       "      <td>S</td>\n",
       "      <td>21171</td>\n",
       "      <td>A/5</td>\n",
       "    </tr>\n",
       "    <tr>\n",
       "      <th>1</th>\n",
       "      <td>2</td>\n",
       "      <td>1</td>\n",
       "      <td>1</td>\n",
       "      <td>Cumings Mrs John Bradley Florence Briggs Thayer</td>\n",
       "      <td>female</td>\n",
       "      <td>38.0</td>\n",
       "      <td>1</td>\n",
       "      <td>0</td>\n",
       "      <td>PC 17599</td>\n",
       "      <td>71.2833</td>\n",
       "      <td>C85</td>\n",
       "      <td>C</td>\n",
       "      <td>17599</td>\n",
       "      <td>PC</td>\n",
       "    </tr>\n",
       "    <tr>\n",
       "      <th>2</th>\n",
       "      <td>3</td>\n",
       "      <td>1</td>\n",
       "      <td>3</td>\n",
       "      <td>Heikkinen Miss Laina</td>\n",
       "      <td>female</td>\n",
       "      <td>26.0</td>\n",
       "      <td>0</td>\n",
       "      <td>0</td>\n",
       "      <td>STON/O2. 3101282</td>\n",
       "      <td>7.9250</td>\n",
       "      <td>NaN</td>\n",
       "      <td>S</td>\n",
       "      <td>3101282</td>\n",
       "      <td>STON/O2.</td>\n",
       "    </tr>\n",
       "    <tr>\n",
       "      <th>3</th>\n",
       "      <td>4</td>\n",
       "      <td>1</td>\n",
       "      <td>1</td>\n",
       "      <td>Futrelle Mrs Jacques Heath Lily May Peel</td>\n",
       "      <td>female</td>\n",
       "      <td>35.0</td>\n",
       "      <td>1</td>\n",
       "      <td>0</td>\n",
       "      <td>113803</td>\n",
       "      <td>53.1000</td>\n",
       "      <td>C123</td>\n",
       "      <td>S</td>\n",
       "      <td>113803</td>\n",
       "      <td>NONE</td>\n",
       "    </tr>\n",
       "    <tr>\n",
       "      <th>4</th>\n",
       "      <td>5</td>\n",
       "      <td>0</td>\n",
       "      <td>3</td>\n",
       "      <td>Allen Mr William Henry</td>\n",
       "      <td>male</td>\n",
       "      <td>35.0</td>\n",
       "      <td>0</td>\n",
       "      <td>0</td>\n",
       "      <td>373450</td>\n",
       "      <td>8.0500</td>\n",
       "      <td>NaN</td>\n",
       "      <td>S</td>\n",
       "      <td>373450</td>\n",
       "      <td>NONE</td>\n",
       "    </tr>\n",
       "  </tbody>\n",
       "</table>\n",
       "</div>"
      ],
      "text/plain": [
       "   PassengerId  Survived  Pclass  \\\n",
       "0            1         0       3   \n",
       "1            2         1       1   \n",
       "2            3         1       3   \n",
       "3            4         1       1   \n",
       "4            5         0       3   \n",
       "\n",
       "                                              Name     Sex   Age  SibSp  \\\n",
       "0                            Braund Mr Owen Harris    male  22.0      1   \n",
       "1  Cumings Mrs John Bradley Florence Briggs Thayer  female  38.0      1   \n",
       "2                             Heikkinen Miss Laina  female  26.0      0   \n",
       "3         Futrelle Mrs Jacques Heath Lily May Peel  female  35.0      1   \n",
       "4                           Allen Mr William Henry    male  35.0      0   \n",
       "\n",
       "   Parch            Ticket     Fare Cabin Embarked Ticket_number Ticket_item  \n",
       "0      0         A/5 21171   7.2500   NaN        S         21171         A/5  \n",
       "1      0          PC 17599  71.2833   C85        C         17599          PC  \n",
       "2      0  STON/O2. 3101282   7.9250   NaN        S       3101282    STON/O2.  \n",
       "3      0            113803  53.1000  C123        S        113803        NONE  \n",
       "4      0            373450   8.0500   NaN        S        373450        NONE  "
      ]
     },
     "execution_count": 4,
     "metadata": {},
     "output_type": "execute_result"
    }
   ],
   "source": [
    "def preprocess(df):\n",
    "    df = df.copy()\n",
    "    \n",
    "    def normalize_name(x):\n",
    "        return \" \".join([v.strip(\",()[].\\\"'\") for v in x.split(\" \")])\n",
    "    \n",
    "    def ticket_number(x):\n",
    "        return x.split(\" \")[-1]\n",
    "        \n",
    "    def ticket_item(x):\n",
    "        items = x.split(\" \")\n",
    "        if len(items) == 1:\n",
    "            return \"NONE\"\n",
    "        return \"_\".join(items[0:-1])\n",
    "    \n",
    "    df[\"Name\"] = df[\"Name\"].apply(normalize_name)\n",
    "    df[\"Ticket_number\"] = df[\"Ticket\"].apply(ticket_number)\n",
    "    df[\"Ticket_item\"] = df[\"Ticket\"].apply(ticket_item)                     \n",
    "    return df\n",
    "    \n",
    "preprocessed_train_df = preprocess(train_df)\n",
    "preprocessed_serving_df = preprocess(serving_df)\n",
    "\n",
    "preprocessed_train_df.head(5)"
   ]
  },
  {
   "cell_type": "markdown",
   "id": "2ae0537e",
   "metadata": {
    "papermill": {
     "duration": 0.005764,
     "end_time": "2025-01-27T21:36:49.162165",
     "exception": false,
     "start_time": "2025-01-27T21:36:49.156401",
     "status": "completed"
    },
    "tags": []
   },
   "source": [
    "Let's keep the list of the input features of the model. Notably, we don't want to train our model on the \"PassengerId\" and \"Ticket\" features."
   ]
  },
  {
   "cell_type": "code",
   "execution_count": 5,
   "id": "3fca078d",
   "metadata": {
    "execution": {
     "iopub.execute_input": "2025-01-27T21:36:49.175207Z",
     "iopub.status.busy": "2025-01-27T21:36:49.174742Z",
     "iopub.status.idle": "2025-01-27T21:36:49.181264Z",
     "shell.execute_reply": "2025-01-27T21:36:49.180062Z"
    },
    "papermill": {
     "duration": 0.015762,
     "end_time": "2025-01-27T21:36:49.183547",
     "exception": false,
     "start_time": "2025-01-27T21:36:49.167785",
     "status": "completed"
    },
    "tags": []
   },
   "outputs": [
    {
     "name": "stdout",
     "output_type": "stream",
     "text": [
      "Input features: ['Pclass', 'Name', 'Sex', 'Age', 'SibSp', 'Parch', 'Fare', 'Cabin', 'Embarked', 'Ticket_number', 'Ticket_item']\n"
     ]
    }
   ],
   "source": [
    "input_features = list(preprocessed_train_df.columns)\n",
    "input_features.remove(\"Ticket\")\n",
    "input_features.remove(\"PassengerId\")\n",
    "input_features.remove(\"Survived\")\n",
    "#input_features.remove(\"Ticket_number\")\n",
    "\n",
    "print(f\"Input features: {input_features}\")"
   ]
  },
  {
   "cell_type": "markdown",
   "id": "17d78e45",
   "metadata": {
    "papermill": {
     "duration": 0.005494,
     "end_time": "2025-01-27T21:36:49.194630",
     "exception": false,
     "start_time": "2025-01-27T21:36:49.189136",
     "status": "completed"
    },
    "tags": []
   },
   "source": [
    "# Convert Pandas dataset to TensorFlow Dataset"
   ]
  },
  {
   "cell_type": "code",
   "execution_count": 6,
   "id": "b5eaeacb",
   "metadata": {
    "execution": {
     "iopub.execute_input": "2025-01-27T21:36:49.209237Z",
     "iopub.status.busy": "2025-01-27T21:36:49.208386Z",
     "iopub.status.idle": "2025-01-27T21:36:49.521717Z",
     "shell.execute_reply": "2025-01-27T21:36:49.520149Z"
    },
    "papermill": {
     "duration": 0.323655,
     "end_time": "2025-01-27T21:36:49.525021",
     "exception": false,
     "start_time": "2025-01-27T21:36:49.201366",
     "status": "completed"
    },
    "tags": []
   },
   "outputs": [],
   "source": [
    "def tokenize_names(features, labels=None):\n",
    "    \"\"\"Divite the names into tokens. TF-DF can consume text tokens natively.\"\"\"\n",
    "    features[\"Name\"] =  tf.strings.split(features[\"Name\"])\n",
    "    return features, labels\n",
    "\n",
    "train_ds = tfdf.keras.pd_dataframe_to_tf_dataset(preprocessed_train_df,label=\"Survived\").map(tokenize_names)\n",
    "serving_ds = tfdf.keras.pd_dataframe_to_tf_dataset(preprocessed_serving_df).map(tokenize_names)"
   ]
  },
  {
   "cell_type": "markdown",
   "id": "86ae5e57",
   "metadata": {
    "papermill": {
     "duration": 0.005452,
     "end_time": "2025-01-27T21:36:49.537618",
     "exception": false,
     "start_time": "2025-01-27T21:36:49.532166",
     "status": "completed"
    },
    "tags": []
   },
   "source": [
    "# Train model with default parameters\n",
    "\n",
    "### Train model\n",
    "\n",
    "First, we are training a GradientBoostedTreesModel model with the default parameters."
   ]
  },
  {
   "cell_type": "code",
   "execution_count": 7,
   "id": "e1ccd521",
   "metadata": {
    "execution": {
     "iopub.execute_input": "2025-01-27T21:36:49.551259Z",
     "iopub.status.busy": "2025-01-27T21:36:49.550859Z",
     "iopub.status.idle": "2025-01-27T21:36:57.958926Z",
     "shell.execute_reply": "2025-01-27T21:36:57.957465Z"
    },
    "papermill": {
     "duration": 8.418085,
     "end_time": "2025-01-27T21:36:57.961454",
     "exception": false,
     "start_time": "2025-01-27T21:36:49.543369",
     "status": "completed"
    },
    "tags": []
   },
   "outputs": [
    {
     "name": "stderr",
     "output_type": "stream",
     "text": [
      "[INFO 2025-01-27T21:36:55.484214518+00:00 kernel.cc:1214] Loading model from path /tmp/tmplvtrdiy4/model/ with prefix 97ca7fc8ca8c4952\n",
      "[INFO 2025-01-27T21:36:55.495009672+00:00 abstract_model.cc:1311] Engine \"GradientBoostedTreesQuickScorerExtended\" built\n",
      "[INFO 2025-01-27T21:36:55.495227448+00:00 kernel.cc:1046] Use fast generic engine\n"
     ]
    },
    {
     "name": "stdout",
     "output_type": "stream",
     "text": [
      "WARNING: AutoGraph could not transform <function simple_ml_inference_op_with_handle at 0x7eef903874d0> and will run it as-is.\n",
      "Please report this to the TensorFlow team. When filing the bug, set the verbosity to 10 (on Linux, `export AUTOGRAPH_VERBOSITY=10`) and attach the full output.\n",
      "Cause: could not get source code\n",
      "To silence this warning, decorate the function with @tf.autograph.experimental.do_not_convert\n",
      "Accuracy: 0.8260869383811951 Loss:0.8608942627906799\n"
     ]
    }
   ],
   "source": [
    "model = tfdf.keras.GradientBoostedTreesModel(\n",
    "    verbose=0, # Very few logs\n",
    "    features=[tfdf.keras.FeatureUsage(name=n) for n in input_features],\n",
    "    exclude_non_specified_features=True, # Only use the features in \"features\"\n",
    "    random_seed=1234,\n",
    ")\n",
    "model.fit(train_ds)\n",
    "\n",
    "self_evaluation = model.make_inspector().evaluation()\n",
    "print(f\"Accuracy: {self_evaluation.accuracy} Loss:{self_evaluation.loss}\")"
   ]
  },
  {
   "cell_type": "markdown",
   "id": "a89d7609",
   "metadata": {
    "papermill": {
     "duration": 0.0054,
     "end_time": "2025-01-27T21:36:57.972777",
     "exception": false,
     "start_time": "2025-01-27T21:36:57.967377",
     "status": "completed"
    },
    "tags": []
   },
   "source": [
    "# Train model with improved default parameters\n",
    "\n",
    "Now you'll use some specific parameters when creating the GBT model"
   ]
  },
  {
   "cell_type": "code",
   "execution_count": 8,
   "id": "739ceae8",
   "metadata": {
    "execution": {
     "iopub.execute_input": "2025-01-27T21:36:57.986311Z",
     "iopub.status.busy": "2025-01-27T21:36:57.985861Z",
     "iopub.status.idle": "2025-01-27T21:36:59.256093Z",
     "shell.execute_reply": "2025-01-27T21:36:59.254563Z"
    },
    "papermill": {
     "duration": 1.279944,
     "end_time": "2025-01-27T21:36:59.258588",
     "exception": false,
     "start_time": "2025-01-27T21:36:57.978644",
     "status": "completed"
    },
    "tags": []
   },
   "outputs": [
    {
     "name": "stderr",
     "output_type": "stream",
     "text": [
      "[INFO 2025-01-27T21:36:58.921876393+00:00 kernel.cc:1214] Loading model from path /tmp/tmpghdmxafb/model/ with prefix e1ccda34bfae4ed1\n",
      "[INFO 2025-01-27T21:36:58.932539893+00:00 decision_forest.cc:661] Model loaded with 33 root(s), 1823 node(s), and 10 input feature(s).\n",
      "[INFO 2025-01-27T21:36:58.932599689+00:00 kernel.cc:1046] Use fast generic engine\n"
     ]
    },
    {
     "name": "stdout",
     "output_type": "stream",
     "text": [
      "Accuracy: 0.760869562625885 Loss:1.0154211521148682\n"
     ]
    }
   ],
   "source": [
    "model = tfdf.keras.GradientBoostedTreesModel(\n",
    "    verbose=0, # Very few logs\n",
    "    features=[tfdf.keras.FeatureUsage(name=n) for n in input_features],\n",
    "    exclude_non_specified_features=True, # Only use the features in \"features\"\n",
    "    \n",
    "    #num_trees=2000,\n",
    "    \n",
    "    # Only for GBT.\n",
    "    # A bit slower, but great to understand the model.\n",
    "    # compute_permutation_variable_importance=True,\n",
    "    \n",
    "    # Change the default hyper-parameters\n",
    "    # hyperparameter_template=\"benchmark_rank1@v1\",\n",
    "    \n",
    "    #num_trees=1000,\n",
    "    #tuner=tuner\n",
    "    \n",
    "    min_examples=1,\n",
    "    categorical_algorithm=\"RANDOM\",\n",
    "    #max_depth=4,\n",
    "    shrinkage=0.05,\n",
    "    #num_candidate_attributes_ratio=0.2,\n",
    "    split_axis=\"SPARSE_OBLIQUE\",\n",
    "    sparse_oblique_normalization=\"MIN_MAX\",\n",
    "    sparse_oblique_num_projections_exponent=2.0,\n",
    "    num_trees=2000,\n",
    "    #validation_ratio=0.0,\n",
    "    random_seed=1234,\n",
    "    \n",
    ")\n",
    "model.fit(train_ds)\n",
    "\n",
    "self_evaluation = model.make_inspector().evaluation()\n",
    "print(f\"Accuracy: {self_evaluation.accuracy} Loss:{self_evaluation.loss}\")"
   ]
  },
  {
   "cell_type": "markdown",
   "id": "2c9ea34f",
   "metadata": {
    "papermill": {
     "duration": 0.005771,
     "end_time": "2025-01-27T21:36:59.270383",
     "exception": false,
     "start_time": "2025-01-27T21:36:59.264612",
     "status": "completed"
    },
    "tags": []
   },
   "source": [
    "Let's look at the model and you can also notice the information about variable importance that the model figured out"
   ]
  },
  {
   "cell_type": "code",
   "execution_count": 9,
   "id": "f73dc9ab",
   "metadata": {
    "execution": {
     "iopub.execute_input": "2025-01-27T21:36:59.284882Z",
     "iopub.status.busy": "2025-01-27T21:36:59.283910Z",
     "iopub.status.idle": "2025-01-27T21:36:59.301640Z",
     "shell.execute_reply": "2025-01-27T21:36:59.299907Z"
    },
    "papermill": {
     "duration": 0.028748,
     "end_time": "2025-01-27T21:36:59.305059",
     "exception": false,
     "start_time": "2025-01-27T21:36:59.276311",
     "status": "completed"
    },
    "tags": []
   },
   "outputs": [
    {
     "name": "stdout",
     "output_type": "stream",
     "text": [
      "Model: \"gradient_boosted_trees_model_1\"\n",
      "_________________________________________________________________\n",
      " Layer (type)                Output Shape              Param #   \n",
      "=================================================================\n",
      "=================================================================\n",
      "Total params: 1\n",
      "Trainable params: 0\n",
      "Non-trainable params: 1\n",
      "_________________________________________________________________\n",
      "Type: \"GRADIENT_BOOSTED_TREES\"\n",
      "Task: CLASSIFICATION\n",
      "Label: \"__LABEL\"\n",
      "\n",
      "Input Features (11):\n",
      "\tAge\n",
      "\tCabin\n",
      "\tEmbarked\n",
      "\tFare\n",
      "\tName\n",
      "\tParch\n",
      "\tPclass\n",
      "\tSex\n",
      "\tSibSp\n",
      "\tTicket_item\n",
      "\tTicket_number\n",
      "\n",
      "No weights\n",
      "\n",
      "Variable Importance: INV_MEAN_MIN_DEPTH:\n",
      "    1.           \"Sex\"  0.576632 ################\n",
      "    2.           \"Age\"  0.364297 #######\n",
      "    3.          \"Fare\"  0.278839 ####\n",
      "    4.          \"Name\"  0.208548 #\n",
      "    5. \"Ticket_number\"  0.180792 \n",
      "    6.        \"Pclass\"  0.176962 \n",
      "    7.         \"Parch\"  0.176659 \n",
      "    8.   \"Ticket_item\"  0.175540 \n",
      "    9.      \"Embarked\"  0.172339 \n",
      "   10.         \"SibSp\"  0.170442 \n",
      "\n",
      "Variable Importance: NUM_AS_ROOT:\n",
      "    1.  \"Sex\" 28.000000 ################\n",
      "    2. \"Name\"  5.000000 \n",
      "\n",
      "Variable Importance: NUM_NODES:\n",
      "    1.           \"Age\" 406.000000 ################\n",
      "    2.          \"Fare\" 290.000000 ###########\n",
      "    3.          \"Name\" 44.000000 #\n",
      "    4.   \"Ticket_item\" 42.000000 #\n",
      "    5.           \"Sex\" 31.000000 #\n",
      "    6.         \"Parch\" 28.000000 \n",
      "    7. \"Ticket_number\" 22.000000 \n",
      "    8.        \"Pclass\" 15.000000 \n",
      "    9.      \"Embarked\" 12.000000 \n",
      "   10.         \"SibSp\"  5.000000 \n",
      "\n",
      "Variable Importance: SUM_SCORE:\n",
      "    1.           \"Sex\" 460.497828 ################\n",
      "    2.           \"Age\" 355.963333 ############\n",
      "    3.          \"Fare\" 292.870316 ##########\n",
      "    4.          \"Name\" 108.548952 ###\n",
      "    5.        \"Pclass\" 28.132254 \n",
      "    6.   \"Ticket_item\" 23.818676 \n",
      "    7. \"Ticket_number\" 23.772288 \n",
      "    8.         \"Parch\" 19.303155 \n",
      "    9.      \"Embarked\"  8.155722 \n",
      "   10.         \"SibSp\"  0.015225 \n",
      "\n",
      "\n",
      "\n",
      "Loss: BINOMIAL_LOG_LIKELIHOOD\n",
      "Validation loss value: 1.01542\n",
      "Number of trees per iteration: 1\n",
      "Node format: NOT_SET\n",
      "Number of trees: 33\n",
      "Total number of nodes: 1823\n",
      "\n",
      "Number of nodes by tree:\n",
      "Count: 33 Average: 55.2424 StdDev: 5.13473\n",
      "Min: 39 Max: 63 Ignored: 0\n",
      "----------------------------------------------\n",
      "[ 39, 40) 1   3.03%   3.03% #\n",
      "[ 40, 41) 0   0.00%   3.03%\n",
      "[ 41, 42) 0   0.00%   3.03%\n",
      "[ 42, 44) 0   0.00%   3.03%\n",
      "[ 44, 45) 0   0.00%   3.03%\n",
      "[ 45, 46) 0   0.00%   3.03%\n",
      "[ 46, 47) 0   0.00%   3.03%\n",
      "[ 47, 49) 2   6.06%   9.09% ###\n",
      "[ 49, 50) 2   6.06%  15.15% ###\n",
      "[ 50, 51) 0   0.00%  15.15%\n",
      "[ 51, 52) 2   6.06%  21.21% ###\n",
      "[ 52, 54) 5  15.15%  36.36% #######\n",
      "[ 54, 55) 0   0.00%  36.36%\n",
      "[ 55, 56) 5  15.15%  51.52% #######\n",
      "[ 56, 57) 0   0.00%  51.52%\n",
      "[ 57, 59) 4  12.12%  63.64% ######\n",
      "[ 59, 60) 7  21.21%  84.85% ##########\n",
      "[ 60, 61) 0   0.00%  84.85%\n",
      "[ 61, 62) 3   9.09%  93.94% ####\n",
      "[ 62, 63] 2   6.06% 100.00% ###\n",
      "\n",
      "Depth by leafs:\n",
      "Count: 928 Average: 4.8847 StdDev: 0.380934\n",
      "Min: 2 Max: 5 Ignored: 0\n",
      "----------------------------------------------\n",
      "[ 2, 3)   1   0.11%   0.11%\n",
      "[ 3, 4)  17   1.83%   1.94%\n",
      "[ 4, 5)  70   7.54%   9.48% #\n",
      "[ 5, 5] 840  90.52% 100.00% ##########\n",
      "\n",
      "Number of training obs by leaf:\n",
      "Count: 928 Average: 28.4127 StdDev: 70.8313\n",
      "Min: 1 Max: 438 Ignored: 0\n",
      "----------------------------------------------\n",
      "[   1,  22) 731  78.77%  78.77% ##########\n",
      "[  22,  44)  74   7.97%  86.75% #\n",
      "[  44,  66)  37   3.99%  90.73% #\n",
      "[  66,  88)   3   0.32%  91.06%\n",
      "[  88, 110)   9   0.97%  92.03%\n",
      "[ 110, 132)   8   0.86%  92.89%\n",
      "[ 132, 154)  18   1.94%  94.83%\n",
      "[ 154, 176)   8   0.86%  95.69%\n",
      "[ 176, 198)   6   0.65%  96.34%\n",
      "[ 198, 220)   2   0.22%  96.55%\n",
      "[ 220, 241)   2   0.22%  96.77%\n",
      "[ 241, 263)   1   0.11%  96.88%\n",
      "[ 263, 285)   2   0.22%  97.09%\n",
      "[ 285, 307)   5   0.54%  97.63%\n",
      "[ 307, 329)   1   0.11%  97.74%\n",
      "[ 329, 351)   2   0.22%  97.95%\n",
      "[ 351, 373)   6   0.65%  98.60%\n",
      "[ 373, 395)   6   0.65%  99.25%\n",
      "[ 395, 417)   2   0.22%  99.46%\n",
      "[ 417, 438]   5   0.54% 100.00%\n",
      "\n",
      "Attribute in nodes:\n",
      "\t406 : Age [NUMERICAL]\n",
      "\t290 : Fare [NUMERICAL]\n",
      "\t44 : Name [CATEGORICAL_SET]\n",
      "\t42 : Ticket_item [CATEGORICAL]\n",
      "\t31 : Sex [CATEGORICAL]\n",
      "\t28 : Parch [NUMERICAL]\n",
      "\t22 : Ticket_number [CATEGORICAL]\n",
      "\t15 : Pclass [NUMERICAL]\n",
      "\t12 : Embarked [CATEGORICAL]\n",
      "\t5 : SibSp [NUMERICAL]\n",
      "\n",
      "Attribute in nodes with depth <= 0:\n",
      "\t28 : Sex [CATEGORICAL]\n",
      "\t5 : Name [CATEGORICAL_SET]\n",
      "\n",
      "Attribute in nodes with depth <= 1:\n",
      "\t39 : Age [NUMERICAL]\n",
      "\t28 : Sex [CATEGORICAL]\n",
      "\t21 : Fare [NUMERICAL]\n",
      "\t5 : Name [CATEGORICAL_SET]\n",
      "\t3 : Pclass [NUMERICAL]\n",
      "\t2 : Ticket_number [CATEGORICAL]\n",
      "\t1 : Parch [NUMERICAL]\n",
      "\n",
      "Attribute in nodes with depth <= 2:\n",
      "\t102 : Age [NUMERICAL]\n",
      "\t65 : Fare [NUMERICAL]\n",
      "\t28 : Sex [CATEGORICAL]\n",
      "\t15 : Name [CATEGORICAL_SET]\n",
      "\t7 : Ticket_number [CATEGORICAL]\n",
      "\t5 : Pclass [NUMERICAL]\n",
      "\t4 : Parch [NUMERICAL]\n",
      "\t2 : Ticket_item [CATEGORICAL]\n",
      "\t2 : Embarked [CATEGORICAL]\n",
      "\n",
      "Attribute in nodes with depth <= 3:\n",
      "\t206 : Age [NUMERICAL]\n",
      "\t156 : Fare [NUMERICAL]\n",
      "\t33 : Name [CATEGORICAL_SET]\n",
      "\t29 : Sex [CATEGORICAL]\n",
      "\t19 : Ticket_number [CATEGORICAL]\n",
      "\t11 : Ticket_item [CATEGORICAL]\n",
      "\t11 : Parch [NUMERICAL]\n",
      "\t7 : Pclass [NUMERICAL]\n",
      "\t3 : Embarked [CATEGORICAL]\n",
      "\n",
      "Attribute in nodes with depth <= 5:\n",
      "\t406 : Age [NUMERICAL]\n",
      "\t290 : Fare [NUMERICAL]\n",
      "\t44 : Name [CATEGORICAL_SET]\n",
      "\t42 : Ticket_item [CATEGORICAL]\n",
      "\t31 : Sex [CATEGORICAL]\n",
      "\t28 : Parch [NUMERICAL]\n",
      "\t22 : Ticket_number [CATEGORICAL]\n",
      "\t15 : Pclass [NUMERICAL]\n",
      "\t12 : Embarked [CATEGORICAL]\n",
      "\t5 : SibSp [NUMERICAL]\n",
      "\n",
      "Condition type in nodes:\n",
      "\t744 : ObliqueCondition\n",
      "\t122 : ContainsBitmapCondition\n",
      "\t29 : ContainsCondition\n",
      "Condition type in nodes with depth <= 0:\n",
      "\t31 : ContainsBitmapCondition\n",
      "\t2 : ContainsCondition\n",
      "Condition type in nodes with depth <= 1:\n",
      "\t64 : ObliqueCondition\n",
      "\t33 : ContainsBitmapCondition\n",
      "\t2 : ContainsCondition\n",
      "Condition type in nodes with depth <= 2:\n",
      "\t176 : ObliqueCondition\n",
      "\t51 : ContainsBitmapCondition\n",
      "\t3 : ContainsCondition\n",
      "Condition type in nodes with depth <= 3:\n",
      "\t380 : ObliqueCondition\n",
      "\t77 : ContainsBitmapCondition\n",
      "\t18 : ContainsCondition\n",
      "Condition type in nodes with depth <= 5:\n",
      "\t744 : ObliqueCondition\n",
      "\t122 : ContainsBitmapCondition\n",
      "\t29 : ContainsCondition\n",
      "\n",
      "Training logs:\n",
      "Number of iteration to final model: 33\n",
      "\tIter:1 train-loss:1.266350 valid-loss:1.360049  train-accuracy:0.624531 valid-accuracy:0.543478\n",
      "\tIter:2 train-loss:1.213702 valid-loss:1.321897  train-accuracy:0.624531 valid-accuracy:0.543478\n",
      "\tIter:3 train-loss:1.165783 valid-loss:1.286817  train-accuracy:0.624531 valid-accuracy:0.543478\n",
      "\tIter:4 train-loss:1.122469 valid-loss:1.256133  train-accuracy:0.624531 valid-accuracy:0.543478\n",
      "\tIter:5 train-loss:1.081461 valid-loss:1.229342  train-accuracy:0.808511 valid-accuracy:0.771739\n",
      "\tIter:6 train-loss:1.045305 valid-loss:1.204601  train-accuracy:0.826033 valid-accuracy:0.728261\n",
      "\tIter:16 train-loss:0.794952 valid-loss:1.058568  train-accuracy:0.914894 valid-accuracy:0.771739\n",
      "\tIter:26 train-loss:0.646146 valid-loss:1.021539  train-accuracy:0.926158 valid-accuracy:0.793478\n",
      "\tIter:36 train-loss:0.558627 valid-loss:1.023663  train-accuracy:0.929912 valid-accuracy:0.771739\n",
      "\tIter:46 train-loss:0.493899 valid-loss:1.025164  train-accuracy:0.931164 valid-accuracy:0.760870\n",
      "\tIter:56 train-loss:0.451528 valid-loss:1.032880  train-accuracy:0.938673 valid-accuracy:0.771739\n",
      "\n"
     ]
    }
   ],
   "source": [
    "model.summary()"
   ]
  },
  {
   "cell_type": "markdown",
   "id": "8055d872",
   "metadata": {
    "papermill": {
     "duration": 0.006385,
     "end_time": "2025-01-27T21:36:59.318162",
     "exception": false,
     "start_time": "2025-01-27T21:36:59.311777",
     "status": "completed"
    },
    "tags": []
   },
   "source": [
    "# Make predictions"
   ]
  },
  {
   "cell_type": "code",
   "execution_count": 10,
   "id": "128e9037",
   "metadata": {
    "execution": {
     "iopub.execute_input": "2025-01-27T21:36:59.333824Z",
     "iopub.status.busy": "2025-01-27T21:36:59.332893Z",
     "iopub.status.idle": "2025-01-27T21:37:00.682899Z",
     "shell.execute_reply": "2025-01-27T21:37:00.681273Z"
    },
    "papermill": {
     "duration": 1.361612,
     "end_time": "2025-01-27T21:37:00.686275",
     "exception": false,
     "start_time": "2025-01-27T21:36:59.324663",
     "status": "completed"
    },
    "tags": []
   },
   "outputs": [
    {
     "name": "stdout",
     "output_type": "stream",
     "text": [
      "Submission exported to /kaggle/working/submission.csv\n",
      "PassengerId,Survived\r\n",
      "892,0\r\n",
      "893,0\r\n",
      "894,0\r\n",
      "895,0\r\n",
      "896,0\r\n",
      "897,0\r\n",
      "898,0\r\n",
      "899,0\r\n",
      "900,1\r\n"
     ]
    }
   ],
   "source": [
    "def prediction_to_kaggle_format(model, threshold=0.5):\n",
    "    proba_survive = model.predict(serving_ds, verbose=0)[:,0]\n",
    "    return pd.DataFrame({\n",
    "        \"PassengerId\": serving_df[\"PassengerId\"],\n",
    "        \"Survived\": (proba_survive >= threshold).astype(int)\n",
    "    })\n",
    "\n",
    "def make_submission(kaggle_predictions):\n",
    "    path=\"/kaggle/working/submission.csv\"\n",
    "    kaggle_predictions.to_csv(path, index=False)\n",
    "    print(f\"Submission exported to {path}\")\n",
    "    \n",
    "kaggle_predictions = prediction_to_kaggle_format(model)\n",
    "make_submission(kaggle_predictions)\n",
    "!head /kaggle/working/submission.csv"
   ]
  },
  {
   "cell_type": "markdown",
   "id": "d92c96d3",
   "metadata": {
    "papermill": {
     "duration": 0.006625,
     "end_time": "2025-01-27T21:37:00.699922",
     "exception": false,
     "start_time": "2025-01-27T21:37:00.693297",
     "status": "completed"
    },
    "tags": []
   },
   "source": [
    "# Training a model with hyperparameter tunning\n",
    "\n",
    "Hyper-parameter tuning is enabled by specifying the tuner constructor argument of the model. The tuner object contains all the configuration of the tuner (search space, optimizer, trial and objective).\n"
   ]
  },
  {
   "cell_type": "code",
   "execution_count": 11,
   "id": "81528c22",
   "metadata": {
    "execution": {
     "iopub.execute_input": "2025-01-27T21:37:00.717191Z",
     "iopub.status.busy": "2025-01-27T21:37:00.715814Z",
     "iopub.status.idle": "2025-01-27T21:39:03.816372Z",
     "shell.execute_reply": "2025-01-27T21:39:03.814999Z"
    },
    "papermill": {
     "duration": 123.112108,
     "end_time": "2025-01-27T21:39:03.818940",
     "exception": false,
     "start_time": "2025-01-27T21:37:00.706832",
     "status": "completed"
    },
    "tags": []
   },
   "outputs": [
    {
     "name": "stdout",
     "output_type": "stream",
     "text": [
      "Use /tmp/tmphfxc9mzx as temporary training directory\n"
     ]
    },
    {
     "name": "stderr",
     "output_type": "stream",
     "text": [
      "[INFO 2025-01-27T21:39:03.416777333+00:00 kernel.cc:1214] Loading model from path /tmp/tmphfxc9mzx/model/ with prefix 6ee9ddc870d84a0b\n",
      "[INFO 2025-01-27T21:39:03.432832185+00:00 decision_forest.cc:661] Model loaded with 19 root(s), 589 node(s), and 12 input feature(s).\n",
      "[INFO 2025-01-27T21:39:03.433009416+00:00 abstract_model.cc:1311] Engine \"GradientBoostedTreesGeneric\" built\n",
      "[INFO 2025-01-27T21:39:03.433090235+00:00 kernel.cc:1046] Use fast generic engine\n"
     ]
    },
    {
     "name": "stdout",
     "output_type": "stream",
     "text": [
      "Accuracy: 0.9178082346916199 Loss:0.6503586769104004\n"
     ]
    }
   ],
   "source": [
    "tuner = tfdf.tuner.RandomSearch(num_trials=1000)\n",
    "tuner.choice(\"min_examples\", [2, 5, 7, 10])\n",
    "tuner.choice(\"categorical_algorithm\", [\"CART\", \"RANDOM\"])\n",
    "\n",
    "local_search_space = tuner.choice(\"growing_strategy\", [\"LOCAL\"])\n",
    "local_search_space.choice(\"max_depth\", [3, 4, 5, 6, 8])\n",
    "\n",
    "global_search_space = tuner.choice(\"growing_strategy\", [\"BEST_FIRST_GLOBAL\"], merge=True)\n",
    "global_search_space.choice(\"max_num_nodes\", [16, 32, 64, 128, 256])\n",
    "\n",
    "#tuner.choice(\"use_hessian_gain\", [True, False])\n",
    "tuner.choice(\"shrinkage\", [0.02, 0.05, 0.10, 0.15])\n",
    "tuner.choice(\"num_candidate_attributes_ratio\", [0.2, 0.5, 0.9, 1.0])\n",
    "\n",
    "\n",
    "tuner.choice(\"split_axis\", [\"AXIS_ALIGNED\"])\n",
    "oblique_space = tuner.choice(\"split_axis\", [\"SPARSE_OBLIQUE\"], merge=True)\n",
    "oblique_space.choice(\"sparse_oblique_normalization\",\n",
    "                     [\"NONE\", \"STANDARD_DEVIATION\", \"MIN_MAX\"])\n",
    "oblique_space.choice(\"sparse_oblique_weights\", [\"BINARY\", \"CONTINUOUS\"])\n",
    "oblique_space.choice(\"sparse_oblique_num_projections_exponent\", [1.0, 1.5])\n",
    "\n",
    "# Tune the model. Notice the `tuner=tuner`.\n",
    "tuned_model = tfdf.keras.GradientBoostedTreesModel(tuner=tuner)\n",
    "tuned_model.fit(train_ds, verbose=0)\n",
    "\n",
    "tuned_self_evaluation = tuned_model.make_inspector().evaluation()\n",
    "print(f\"Accuracy: {tuned_self_evaluation.accuracy} Loss:{tuned_self_evaluation.loss}\")"
   ]
  },
  {
   "cell_type": "markdown",
   "id": "abaa6a37",
   "metadata": {
    "papermill": {
     "duration": 0.006724,
     "end_time": "2025-01-27T21:39:03.832580",
     "exception": false,
     "start_time": "2025-01-27T21:39:03.825856",
     "status": "completed"
    },
    "tags": []
   },
   "source": [
    "In the last line in the cell above, you can see the accuracy is higher than previously with default parameters and parameters set by hand.\n",
    "\n",
    "This is the main idea behing hyperparameter tuning.\n",
    "\n",
    "For more information you can follow this tutorial: [Automated hyper-parameter tuning](https://www.tensorflow.org/decision_forests/tutorials/automatic_tuning_colab)"
   ]
  },
  {
   "cell_type": "markdown",
   "id": "36ac9452",
   "metadata": {
    "papermill": {
     "duration": 0.006629,
     "end_time": "2025-01-27T21:39:03.846105",
     "exception": false,
     "start_time": "2025-01-27T21:39:03.839476",
     "status": "completed"
    },
    "tags": []
   },
   "source": [
    "# Making an ensemble\n",
    "\n",
    "Here you'll create 100 models with different seeds and combine their results\n",
    "\n",
    "This approach removes a little bit the random aspects related to creating ML models\n",
    "\n",
    "In the GBT creation is used the `honest` parameter. It will use different training examples to infer the structure and the leaf values. This regularization technique trades examples for bias estimates."
   ]
  },
  {
   "cell_type": "code",
   "execution_count": 12,
   "id": "67aeb70e",
   "metadata": {
    "execution": {
     "iopub.execute_input": "2025-01-27T21:39:03.861885Z",
     "iopub.status.busy": "2025-01-27T21:39:03.861461Z",
     "iopub.status.idle": "2025-01-27T21:41:04.251653Z",
     "shell.execute_reply": "2025-01-27T21:41:04.250131Z"
    },
    "papermill": {
     "duration": 120.4014,
     "end_time": "2025-01-27T21:41:04.254392",
     "exception": false,
     "start_time": "2025-01-27T21:39:03.852992",
     "status": "completed"
    },
    "tags": []
   },
   "outputs": [
    {
     "name": "stdout",
     "output_type": "stream",
     "text": [
      "i:0\n"
     ]
    },
    {
     "name": "stderr",
     "output_type": "stream",
     "text": [
      "[INFO 2025-01-27T21:39:04.422456089+00:00 kernel.cc:1214] Loading model from path /tmp/tmpf30jvlof/model/ with prefix 97e320fde0be4ddf\n",
      "[INFO 2025-01-27T21:39:04.427474983+00:00 kernel.cc:1046] Use fast generic engine\n"
     ]
    },
    {
     "name": "stdout",
     "output_type": "stream",
     "text": [
      "i:1\n"
     ]
    },
    {
     "name": "stderr",
     "output_type": "stream",
     "text": [
      "[INFO 2025-01-27T21:39:05.815978859+00:00 kernel.cc:1214] Loading model from path /tmp/tmprvr1jmc5/model/ with prefix 9aea420847594472\n",
      "[INFO 2025-01-27T21:39:05.83789457+00:00 kernel.cc:1046] Use fast generic engine\n"
     ]
    },
    {
     "name": "stdout",
     "output_type": "stream",
     "text": [
      "i:2\n"
     ]
    },
    {
     "name": "stderr",
     "output_type": "stream",
     "text": [
      "[INFO 2025-01-27T21:39:06.822627944+00:00 kernel.cc:1214] Loading model from path /tmp/tmp_iktnscl/model/ with prefix bb574da473564010\n",
      "[INFO 2025-01-27T21:39:06.827811932+00:00 kernel.cc:1046] Use fast generic engine\n"
     ]
    },
    {
     "name": "stdout",
     "output_type": "stream",
     "text": [
      "i:3\n"
     ]
    },
    {
     "name": "stderr",
     "output_type": "stream",
     "text": [
      "[INFO 2025-01-27T21:39:08.39596716+00:00 kernel.cc:1214] Loading model from path /tmp/tmpstetftdj/model/ with prefix 6f675379d117495e\n",
      "[INFO 2025-01-27T21:39:08.425206045+00:00 kernel.cc:1046] Use fast generic engine\n"
     ]
    },
    {
     "name": "stdout",
     "output_type": "stream",
     "text": [
      "i:4\n"
     ]
    },
    {
     "name": "stderr",
     "output_type": "stream",
     "text": [
      "[INFO 2025-01-27T21:39:09.420307916+00:00 kernel.cc:1214] Loading model from path /tmp/tmprc01jkil/model/ with prefix 7513a5f97ff64309\n",
      "[INFO 2025-01-27T21:39:09.426670117+00:00 kernel.cc:1046] Use fast generic engine\n"
     ]
    },
    {
     "name": "stdout",
     "output_type": "stream",
     "text": [
      "i:5\n"
     ]
    },
    {
     "name": "stderr",
     "output_type": "stream",
     "text": [
      "[INFO 2025-01-27T21:39:10.352826418+00:00 kernel.cc:1214] Loading model from path /tmp/tmp4fauh8xq/model/ with prefix e5860f4d1b5c4c81\n",
      "[INFO 2025-01-27T21:39:10.356341255+00:00 kernel.cc:1046] Use fast generic engine\n"
     ]
    },
    {
     "name": "stdout",
     "output_type": "stream",
     "text": [
      "i:6\n"
     ]
    },
    {
     "name": "stderr",
     "output_type": "stream",
     "text": [
      "[INFO 2025-01-27T21:39:11.422259577+00:00 kernel.cc:1214] Loading model from path /tmp/tmpzrr_z4ls/model/ with prefix 532e36d13f414da7\n",
      "[INFO 2025-01-27T21:39:11.430864377+00:00 kernel.cc:1046] Use fast generic engine\n"
     ]
    },
    {
     "name": "stdout",
     "output_type": "stream",
     "text": [
      "i:7\n"
     ]
    },
    {
     "name": "stderr",
     "output_type": "stream",
     "text": [
      "[INFO 2025-01-27T21:39:12.835108574+00:00 kernel.cc:1214] Loading model from path /tmp/tmp0rc0shea/model/ with prefix a3fc7c61e8c24c08\n",
      "[INFO 2025-01-27T21:39:12.857826809+00:00 kernel.cc:1046] Use fast generic engine\n"
     ]
    },
    {
     "name": "stdout",
     "output_type": "stream",
     "text": [
      "i:8\n"
     ]
    },
    {
     "name": "stderr",
     "output_type": "stream",
     "text": [
      "[INFO 2025-01-27T21:39:14.076477171+00:00 kernel.cc:1214] Loading model from path /tmp/tmpznv0oegq/model/ with prefix 89ddf110d6e247da\n",
      "[INFO 2025-01-27T21:39:14.087774567+00:00 abstract_model.cc:1311] Engine \"GradientBoostedTreesQuickScorerExtended\" built\n",
      "[INFO 2025-01-27T21:39:14.087836443+00:00 kernel.cc:1046] Use fast generic engine\n"
     ]
    },
    {
     "name": "stdout",
     "output_type": "stream",
     "text": [
      "i:9\n"
     ]
    },
    {
     "name": "stderr",
     "output_type": "stream",
     "text": [
      "[INFO 2025-01-27T21:39:15.77915432+00:00 kernel.cc:1214] Loading model from path /tmp/tmp_n6y3lbd/model/ with prefix 3b39095a149648ae\n",
      "[INFO 2025-01-27T21:39:15.797120455+00:00 kernel.cc:1046] Use fast generic engine\n"
     ]
    },
    {
     "name": "stdout",
     "output_type": "stream",
     "text": [
      "i:10\n"
     ]
    },
    {
     "name": "stderr",
     "output_type": "stream",
     "text": [
      "[INFO 2025-01-27T21:39:16.831433086+00:00 kernel.cc:1214] Loading model from path /tmp/tmp_a4qqae4/model/ with prefix fbfbe0f0635b42c7\n",
      "[INFO 2025-01-27T21:39:16.837917126+00:00 kernel.cc:1046] Use fast generic engine\n"
     ]
    },
    {
     "name": "stdout",
     "output_type": "stream",
     "text": [
      "i:11\n"
     ]
    },
    {
     "name": "stderr",
     "output_type": "stream",
     "text": [
      "[INFO 2025-01-27T21:39:18.078327359+00:00 kernel.cc:1214] Loading model from path /tmp/tmpmx66jos2/model/ with prefix 16d5cda173744876\n",
      "[INFO 2025-01-27T21:39:18.094553701+00:00 kernel.cc:1046] Use fast generic engine\n"
     ]
    },
    {
     "name": "stdout",
     "output_type": "stream",
     "text": [
      "i:12\n"
     ]
    },
    {
     "name": "stderr",
     "output_type": "stream",
     "text": [
      "[INFO 2025-01-27T21:39:19.096189523+00:00 kernel.cc:1214] Loading model from path /tmp/tmpeousbb8b/model/ with prefix 99e6ca89ba86486d\n",
      "[INFO 2025-01-27T21:39:19.103250043+00:00 kernel.cc:1046] Use fast generic engine\n"
     ]
    },
    {
     "name": "stdout",
     "output_type": "stream",
     "text": [
      "i:13\n"
     ]
    },
    {
     "name": "stderr",
     "output_type": "stream",
     "text": [
      "[INFO 2025-01-27T21:39:20.246631792+00:00 kernel.cc:1214] Loading model from path /tmp/tmpjx5kam75/model/ with prefix 5904a9540afe4f3d\n",
      "[INFO 2025-01-27T21:39:20.259314986+00:00 kernel.cc:1046] Use fast generic engine\n"
     ]
    },
    {
     "name": "stdout",
     "output_type": "stream",
     "text": [
      "i:14\n"
     ]
    },
    {
     "name": "stderr",
     "output_type": "stream",
     "text": [
      "[INFO 2025-01-27T21:39:21.298354149+00:00 kernel.cc:1214] Loading model from path /tmp/tmp0x_1mz00/model/ with prefix e17161ee22c94784\n",
      "[INFO 2025-01-27T21:39:21.305650059+00:00 kernel.cc:1046] Use fast generic engine\n"
     ]
    },
    {
     "name": "stdout",
     "output_type": "stream",
     "text": [
      "i:15\n"
     ]
    },
    {
     "name": "stderr",
     "output_type": "stream",
     "text": [
      "[INFO 2025-01-27T21:39:22.374377439+00:00 kernel.cc:1214] Loading model from path /tmp/tmp6o7mrv6g/model/ with prefix cbf6f6713d544c04\n",
      "[INFO 2025-01-27T21:39:22.383291375+00:00 kernel.cc:1046] Use fast generic engine\n"
     ]
    },
    {
     "name": "stdout",
     "output_type": "stream",
     "text": [
      "i:16\n"
     ]
    },
    {
     "name": "stderr",
     "output_type": "stream",
     "text": [
      "[INFO 2025-01-27T21:39:23.571077438+00:00 kernel.cc:1214] Loading model from path /tmp/tmphqpz7ddf/model/ with prefix 10b3fd883af14b73\n",
      "[INFO 2025-01-27T21:39:23.585480525+00:00 kernel.cc:1046] Use fast generic engine\n"
     ]
    },
    {
     "name": "stdout",
     "output_type": "stream",
     "text": [
      "i:17\n"
     ]
    },
    {
     "name": "stderr",
     "output_type": "stream",
     "text": [
      "[INFO 2025-01-27T21:39:24.793478835+00:00 kernel.cc:1214] Loading model from path /tmp/tmpjpez0fs8/model/ with prefix 479e4597215045db\n",
      "[INFO 2025-01-27T21:39:24.808419586+00:00 abstract_model.cc:1311] Engine \"GradientBoostedTreesQuickScorerExtended\" built\n",
      "[INFO 2025-01-27T21:39:24.808484149+00:00 kernel.cc:1046] Use fast generic engine\n"
     ]
    },
    {
     "name": "stdout",
     "output_type": "stream",
     "text": [
      "i:18\n"
     ]
    },
    {
     "name": "stderr",
     "output_type": "stream",
     "text": [
      "[INFO 2025-01-27T21:39:25.962360167+00:00 kernel.cc:1214] Loading model from path /tmp/tmp_57shme3/model/ with prefix 8b2b78f416a44688\n",
      "[INFO 2025-01-27T21:39:25.975404838+00:00 kernel.cc:1046] Use fast generic engine\n"
     ]
    },
    {
     "name": "stdout",
     "output_type": "stream",
     "text": [
      "i:19\n"
     ]
    },
    {
     "name": "stderr",
     "output_type": "stream",
     "text": [
      "[INFO 2025-01-27T21:39:27.338862341+00:00 kernel.cc:1214] Loading model from path /tmp/tmpsciclowb/model/ with prefix 053941f8c09643a5\n",
      "[INFO 2025-01-27T21:39:27.359051848+00:00 kernel.cc:1046] Use fast generic engine\n"
     ]
    },
    {
     "name": "stdout",
     "output_type": "stream",
     "text": [
      "i:20\n"
     ]
    },
    {
     "name": "stderr",
     "output_type": "stream",
     "text": [
      "[INFO 2025-01-27T21:39:28.625699233+00:00 kernel.cc:1214] Loading model from path /tmp/tmpua58goe0/model/ with prefix 7b5674e624d54499\n",
      "[INFO 2025-01-27T21:39:28.642539458+00:00 kernel.cc:1046] Use fast generic engine\n"
     ]
    },
    {
     "name": "stdout",
     "output_type": "stream",
     "text": [
      "i:21\n"
     ]
    },
    {
     "name": "stderr",
     "output_type": "stream",
     "text": [
      "[INFO 2025-01-27T21:39:29.618340251+00:00 kernel.cc:1214] Loading model from path /tmp/tmp0mvdmtzm/model/ with prefix 9849caa8e51648e6\n",
      "[INFO 2025-01-27T21:39:29.624377245+00:00 kernel.cc:1046] Use fast generic engine\n"
     ]
    },
    {
     "name": "stdout",
     "output_type": "stream",
     "text": [
      "i:22\n"
     ]
    },
    {
     "name": "stderr",
     "output_type": "stream",
     "text": [
      "[INFO 2025-01-27T21:39:30.61673191+00:00 kernel.cc:1214] Loading model from path /tmp/tmpl9vdfwre/model/ with prefix da4091053a3c4736\n",
      "[INFO 2025-01-27T21:39:30.623198156+00:00 kernel.cc:1046] Use fast generic engine\n"
     ]
    },
    {
     "name": "stdout",
     "output_type": "stream",
     "text": [
      "i:23\n"
     ]
    },
    {
     "name": "stderr",
     "output_type": "stream",
     "text": [
      "[INFO 2025-01-27T21:39:31.775199184+00:00 kernel.cc:1214] Loading model from path /tmp/tmpxezv9uge/model/ with prefix 4b72000f0b8443f5\n",
      "[INFO 2025-01-27T21:39:31.785111814+00:00 kernel.cc:1046] Use fast generic engine\n"
     ]
    },
    {
     "name": "stdout",
     "output_type": "stream",
     "text": [
      "i:24\n"
     ]
    },
    {
     "name": "stderr",
     "output_type": "stream",
     "text": [
      "[INFO 2025-01-27T21:39:32.808369194+00:00 kernel.cc:1214] Loading model from path /tmp/tmp_vkjih8l/model/ with prefix fad4dbf504fb4c1e\n",
      "[INFO 2025-01-27T21:39:32.815940477+00:00 kernel.cc:1046] Use fast generic engine\n"
     ]
    },
    {
     "name": "stdout",
     "output_type": "stream",
     "text": [
      "i:25\n"
     ]
    },
    {
     "name": "stderr",
     "output_type": "stream",
     "text": [
      "[INFO 2025-01-27T21:39:34.008716989+00:00 kernel.cc:1214] Loading model from path /tmp/tmplflb4s95/model/ with prefix 6a06193199214927\n",
      "[INFO 2025-01-27T21:39:34.021697088+00:00 kernel.cc:1046] Use fast generic engine\n"
     ]
    },
    {
     "name": "stdout",
     "output_type": "stream",
     "text": [
      "i:26\n"
     ]
    },
    {
     "name": "stderr",
     "output_type": "stream",
     "text": [
      "[INFO 2025-01-27T21:39:35.163854212+00:00 kernel.cc:1214] Loading model from path /tmp/tmptk8dj42z/model/ with prefix 9951ee5a623c4938\n",
      "[INFO 2025-01-27T21:39:35.175103463+00:00 abstract_model.cc:1311] Engine \"GradientBoostedTreesQuickScorerExtended\" built\n",
      "[INFO 2025-01-27T21:39:35.175168734+00:00 kernel.cc:1046] Use fast generic engine\n"
     ]
    },
    {
     "name": "stdout",
     "output_type": "stream",
     "text": [
      "i:27\n"
     ]
    },
    {
     "name": "stderr",
     "output_type": "stream",
     "text": [
      "[INFO 2025-01-27T21:39:36.19938861+00:00 kernel.cc:1214] Loading model from path /tmp/tmplxkg8yg9/model/ with prefix 65948de5cdbd4821\n",
      "[INFO 2025-01-27T21:39:36.207077459+00:00 kernel.cc:1046] Use fast generic engine\n"
     ]
    },
    {
     "name": "stdout",
     "output_type": "stream",
     "text": [
      "i:28\n"
     ]
    },
    {
     "name": "stderr",
     "output_type": "stream",
     "text": [
      "[INFO 2025-01-27T21:39:37.192698664+00:00 kernel.cc:1214] Loading model from path /tmp/tmp__g1r1sw/model/ with prefix 88d4a334b49d4c99\n",
      "[INFO 2025-01-27T21:39:37.198715754+00:00 kernel.cc:1046] Use fast generic engine\n"
     ]
    },
    {
     "name": "stdout",
     "output_type": "stream",
     "text": [
      "i:29\n"
     ]
    },
    {
     "name": "stderr",
     "output_type": "stream",
     "text": [
      "[INFO 2025-01-27T21:39:38.40277888+00:00 kernel.cc:1214] Loading model from path /tmp/tmpyhkzyepz/model/ with prefix 034ba3b0695e46e2\n",
      "[INFO 2025-01-27T21:39:38.417493423+00:00 kernel.cc:1046] Use fast generic engine\n"
     ]
    },
    {
     "name": "stdout",
     "output_type": "stream",
     "text": [
      "i:30\n"
     ]
    },
    {
     "name": "stderr",
     "output_type": "stream",
     "text": [
      "[INFO 2025-01-27T21:39:40.017804282+00:00 kernel.cc:1214] Loading model from path /tmp/tmp4rme6a4e/model/ with prefix eeb0dab1bdf04f68\n",
      "[INFO 2025-01-27T21:39:40.048133761+00:00 kernel.cc:1046] Use fast generic engine\n"
     ]
    },
    {
     "name": "stdout",
     "output_type": "stream",
     "text": [
      "i:31\n"
     ]
    },
    {
     "name": "stderr",
     "output_type": "stream",
     "text": [
      "[INFO 2025-01-27T21:39:41.751628605+00:00 kernel.cc:1214] Loading model from path /tmp/tmp304v_j9i/model/ with prefix 27d18120f29b4255\n",
      "[INFO 2025-01-27T21:39:41.764756673+00:00 kernel.cc:1046] Use fast generic engine\n"
     ]
    },
    {
     "name": "stdout",
     "output_type": "stream",
     "text": [
      "i:32\n"
     ]
    },
    {
     "name": "stderr",
     "output_type": "stream",
     "text": [
      "[INFO 2025-01-27T21:39:42.832087265+00:00 kernel.cc:1214] Loading model from path /tmp/tmp6_v55q5m/model/ with prefix 67361103ee674c22\n",
      "[INFO 2025-01-27T21:39:42.839567482+00:00 kernel.cc:1046] Use fast generic engine\n"
     ]
    },
    {
     "name": "stdout",
     "output_type": "stream",
     "text": [
      "i:33\n"
     ]
    },
    {
     "name": "stderr",
     "output_type": "stream",
     "text": [
      "[INFO 2025-01-27T21:39:44.126990408+00:00 kernel.cc:1214] Loading model from path /tmp/tmpy7otg5o6/model/ with prefix 55f378ef5b464ee8\n",
      "[INFO 2025-01-27T21:39:44.142538246+00:00 kernel.cc:1046] Use fast generic engine\n"
     ]
    },
    {
     "name": "stdout",
     "output_type": "stream",
     "text": [
      "i:34\n"
     ]
    },
    {
     "name": "stderr",
     "output_type": "stream",
     "text": [
      "[INFO 2025-01-27T21:39:45.309587173+00:00 kernel.cc:1214] Loading model from path /tmp/tmpcoms5dp9/model/ with prefix d27bac178aaf4c19\n",
      "[INFO 2025-01-27T21:39:45.323669796+00:00 abstract_model.cc:1311] Engine \"GradientBoostedTreesQuickScorerExtended\" built\n",
      "[INFO 2025-01-27T21:39:45.323721006+00:00 kernel.cc:1046] Use fast generic engine\n"
     ]
    },
    {
     "name": "stdout",
     "output_type": "stream",
     "text": [
      "i:35\n"
     ]
    },
    {
     "name": "stderr",
     "output_type": "stream",
     "text": [
      "[INFO 2025-01-27T21:39:46.464296928+00:00 kernel.cc:1214] Loading model from path /tmp/tmp9z9qwlha/model/ with prefix 88277cb069614dcd\n",
      "[INFO 2025-01-27T21:39:46.473708284+00:00 kernel.cc:1046] Use fast generic engine\n"
     ]
    },
    {
     "name": "stdout",
     "output_type": "stream",
     "text": [
      "i:36\n"
     ]
    },
    {
     "name": "stderr",
     "output_type": "stream",
     "text": [
      "[INFO 2025-01-27T21:39:47.755699049+00:00 kernel.cc:1214] Loading model from path /tmp/tmpinvli0hl/model/ with prefix 025e5c7e83d74f21\n",
      "[INFO 2025-01-27T21:39:47.771993505+00:00 kernel.cc:1046] Use fast generic engine\n"
     ]
    },
    {
     "name": "stdout",
     "output_type": "stream",
     "text": [
      "i:37\n"
     ]
    },
    {
     "name": "stderr",
     "output_type": "stream",
     "text": [
      "[INFO 2025-01-27T21:39:48.894979582+00:00 kernel.cc:1214] Loading model from path /tmp/tmp2m0xsiy2/model/ with prefix e83e41b25afc49a5\n",
      "[INFO 2025-01-27T21:39:48.90522389+00:00 kernel.cc:1046] Use fast generic engine\n"
     ]
    },
    {
     "name": "stdout",
     "output_type": "stream",
     "text": [
      "i:38\n"
     ]
    },
    {
     "name": "stderr",
     "output_type": "stream",
     "text": [
      "[INFO 2025-01-27T21:39:50.144290927+00:00 kernel.cc:1214] Loading model from path /tmp/tmpdxfftng_/model/ with prefix 586610dd6b0147e5\n",
      "[INFO 2025-01-27T21:39:50.159314882+00:00 kernel.cc:1046] Use fast generic engine\n"
     ]
    },
    {
     "name": "stdout",
     "output_type": "stream",
     "text": [
      "i:39\n"
     ]
    },
    {
     "name": "stderr",
     "output_type": "stream",
     "text": [
      "[INFO 2025-01-27T21:39:51.415354894+00:00 kernel.cc:1214] Loading model from path /tmp/tmpq5l8fywm/model/ with prefix 1860823b3f264268\n",
      "[INFO 2025-01-27T21:39:51.429971151+00:00 kernel.cc:1046] Use fast generic engine\n"
     ]
    },
    {
     "name": "stdout",
     "output_type": "stream",
     "text": [
      "i:40\n"
     ]
    },
    {
     "name": "stderr",
     "output_type": "stream",
     "text": [
      "[INFO 2025-01-27T21:39:52.425329771+00:00 kernel.cc:1214] Loading model from path /tmp/tmppaz26660/model/ with prefix 3eb06a0011c548e0\n",
      "[INFO 2025-01-27T21:39:52.430804954+00:00 kernel.cc:1046] Use fast generic engine\n"
     ]
    },
    {
     "name": "stdout",
     "output_type": "stream",
     "text": [
      "i:41\n"
     ]
    },
    {
     "name": "stderr",
     "output_type": "stream",
     "text": [
      "[INFO 2025-01-27T21:39:53.729815003+00:00 kernel.cc:1214] Loading model from path /tmp/tmpdi54tjyt/model/ with prefix a5fb3eb69a814201\n",
      "[INFO 2025-01-27T21:39:53.747159756+00:00 kernel.cc:1046] Use fast generic engine\n"
     ]
    },
    {
     "name": "stdout",
     "output_type": "stream",
     "text": [
      "i:42\n"
     ]
    },
    {
     "name": "stderr",
     "output_type": "stream",
     "text": [
      "[INFO 2025-01-27T21:39:54.880922766+00:00 kernel.cc:1214] Loading model from path /tmp/tmpb_d9dxwm/model/ with prefix b20f4c5f9eb0471b\n",
      "[INFO 2025-01-27T21:39:54.891676908+00:00 kernel.cc:1046] Use fast generic engine\n"
     ]
    },
    {
     "name": "stdout",
     "output_type": "stream",
     "text": [
      "i:43\n"
     ]
    },
    {
     "name": "stderr",
     "output_type": "stream",
     "text": [
      "[INFO 2025-01-27T21:39:56.248400579+00:00 kernel.cc:1214] Loading model from path /tmp/tmpbjmjaazs/model/ with prefix 9d4acfa6340b4c8e\n",
      "[INFO 2025-01-27T21:39:56.267822124+00:00 abstract_model.cc:1311] Engine \"GradientBoostedTreesQuickScorerExtended\" built\n",
      "[INFO 2025-01-27T21:39:56.267873428+00:00 kernel.cc:1046] Use fast generic engine\n"
     ]
    },
    {
     "name": "stdout",
     "output_type": "stream",
     "text": [
      "i:44\n"
     ]
    },
    {
     "name": "stderr",
     "output_type": "stream",
     "text": [
      "[INFO 2025-01-27T21:39:57.39163582+00:00 kernel.cc:1214] Loading model from path /tmp/tmp2976g1oq/model/ with prefix 88206300315b45ec\n",
      "[INFO 2025-01-27T21:39:57.402429415+00:00 kernel.cc:1046] Use fast generic engine\n"
     ]
    },
    {
     "name": "stdout",
     "output_type": "stream",
     "text": [
      "i:45\n"
     ]
    },
    {
     "name": "stderr",
     "output_type": "stream",
     "text": [
      "[INFO 2025-01-27T21:39:58.340676547+00:00 kernel.cc:1214] Loading model from path /tmp/tmpd4aq5psj/model/ with prefix 59237629ae1845d8\n",
      "[INFO 2025-01-27T21:39:58.344917293+00:00 kernel.cc:1046] Use fast generic engine\n"
     ]
    },
    {
     "name": "stdout",
     "output_type": "stream",
     "text": [
      "i:46\n"
     ]
    },
    {
     "name": "stderr",
     "output_type": "stream",
     "text": [
      "[INFO 2025-01-27T21:39:59.612322958+00:00 kernel.cc:1214] Loading model from path /tmp/tmp1wz8xcmz/model/ with prefix 2bb45dc19db14f38\n",
      "[INFO 2025-01-27T21:39:59.628587865+00:00 kernel.cc:1046] Use fast generic engine\n"
     ]
    },
    {
     "name": "stdout",
     "output_type": "stream",
     "text": [
      "i:47\n"
     ]
    },
    {
     "name": "stderr",
     "output_type": "stream",
     "text": [
      "[INFO 2025-01-27T21:40:00.912226892+00:00 kernel.cc:1214] Loading model from path /tmp/tmpxiuu0xou/model/ with prefix 85fbc9817143459d\n",
      "[INFO 2025-01-27T21:40:00.927121418+00:00 kernel.cc:1046] Use fast generic engine\n"
     ]
    },
    {
     "name": "stdout",
     "output_type": "stream",
     "text": [
      "i:48\n"
     ]
    },
    {
     "name": "stderr",
     "output_type": "stream",
     "text": [
      "[INFO 2025-01-27T21:40:01.931866192+00:00 kernel.cc:1214] Loading model from path /tmp/tmpyj6ktffn/model/ with prefix 11f77e8857364714\n",
      "[INFO 2025-01-27T21:40:01.937714564+00:00 kernel.cc:1046] Use fast generic engine\n"
     ]
    },
    {
     "name": "stdout",
     "output_type": "stream",
     "text": [
      "i:49\n"
     ]
    },
    {
     "name": "stderr",
     "output_type": "stream",
     "text": [
      "[INFO 2025-01-27T21:40:02.99027917+00:00 kernel.cc:1214] Loading model from path /tmp/tmpx2dcw9t4/model/ with prefix 2a34aaf6445b48c6\n",
      "[INFO 2025-01-27T21:40:02.997869736+00:00 kernel.cc:1046] Use fast generic engine\n"
     ]
    },
    {
     "name": "stdout",
     "output_type": "stream",
     "text": [
      "i:50\n"
     ]
    },
    {
     "name": "stderr",
     "output_type": "stream",
     "text": [
      "[INFO 2025-01-27T21:40:04.187816863+00:00 kernel.cc:1214] Loading model from path /tmp/tmpgzix2viq/model/ with prefix 21a7387fd9d4447b\n",
      "[INFO 2025-01-27T21:40:04.202072476+00:00 kernel.cc:1046] Use fast generic engine\n"
     ]
    },
    {
     "name": "stdout",
     "output_type": "stream",
     "text": [
      "i:51\n"
     ]
    },
    {
     "name": "stderr",
     "output_type": "stream",
     "text": [
      "[INFO 2025-01-27T21:40:05.494486564+00:00 kernel.cc:1214] Loading model from path /tmp/tmp0ppjiuef/model/ with prefix 729393943adb4380\n",
      "[INFO 2025-01-27T21:40:05.511900125+00:00 kernel.cc:1046] Use fast generic engine\n"
     ]
    },
    {
     "name": "stdout",
     "output_type": "stream",
     "text": [
      "i:52\n"
     ]
    },
    {
     "name": "stderr",
     "output_type": "stream",
     "text": [
      "[INFO 2025-01-27T21:40:06.619217026+00:00 kernel.cc:1214] Loading model from path /tmp/tmpp_n3s7wo/model/ with prefix 6207ff49ee294fb2\n",
      "[INFO 2025-01-27T21:40:06.627924445+00:00 abstract_model.cc:1311] Engine \"GradientBoostedTreesQuickScorerExtended\" built\n",
      "[INFO 2025-01-27T21:40:06.627970325+00:00 kernel.cc:1046] Use fast generic engine\n"
     ]
    },
    {
     "name": "stdout",
     "output_type": "stream",
     "text": [
      "i:53\n"
     ]
    },
    {
     "name": "stderr",
     "output_type": "stream",
     "text": [
      "[INFO 2025-01-27T21:40:07.72387755+00:00 kernel.cc:1214] Loading model from path /tmp/tmpohxanges/model/ with prefix 2e5d7ec72cbc4617\n",
      "[INFO 2025-01-27T21:40:07.732463632+00:00 kernel.cc:1046] Use fast generic engine\n"
     ]
    },
    {
     "name": "stdout",
     "output_type": "stream",
     "text": [
      "i:54\n"
     ]
    },
    {
     "name": "stderr",
     "output_type": "stream",
     "text": [
      "[INFO 2025-01-27T21:40:08.695041977+00:00 kernel.cc:1214] Loading model from path /tmp/tmpdq7kqyov/model/ with prefix 14cd5c7cd5154d28\n",
      "[INFO 2025-01-27T21:40:08.698913531+00:00 kernel.cc:1046] Use fast generic engine\n"
     ]
    },
    {
     "name": "stdout",
     "output_type": "stream",
     "text": [
      "i:55\n"
     ]
    },
    {
     "name": "stderr",
     "output_type": "stream",
     "text": [
      "[INFO 2025-01-27T21:40:09.990482661+00:00 kernel.cc:1214] Loading model from path /tmp/tmp4zymsq_6/model/ with prefix 2d3c0919123f4d21\n",
      "[INFO 2025-01-27T21:40:10.006661089+00:00 kernel.cc:1046] Use fast generic engine\n"
     ]
    },
    {
     "name": "stdout",
     "output_type": "stream",
     "text": [
      "i:56\n"
     ]
    },
    {
     "name": "stderr",
     "output_type": "stream",
     "text": [
      "[INFO 2025-01-27T21:40:11.82698401+00:00 kernel.cc:1214] Loading model from path /tmp/tmpi83aaseq/model/ with prefix 4c898beaee174e57\n",
      "[INFO 2025-01-27T21:40:11.841797682+00:00 kernel.cc:1046] Use fast generic engine\n"
     ]
    },
    {
     "name": "stdout",
     "output_type": "stream",
     "text": [
      "i:57\n"
     ]
    },
    {
     "name": "stderr",
     "output_type": "stream",
     "text": [
      "[INFO 2025-01-27T21:40:12.90286357+00:00 kernel.cc:1214] Loading model from path /tmp/tmp7oqdoq1r/model/ with prefix 703c4e1f9d55451d\n",
      "[INFO 2025-01-27T21:40:12.908049485+00:00 kernel.cc:1046] Use fast generic engine\n"
     ]
    },
    {
     "name": "stdout",
     "output_type": "stream",
     "text": [
      "i:58\n"
     ]
    },
    {
     "name": "stderr",
     "output_type": "stream",
     "text": [
      "[INFO 2025-01-27T21:40:13.987133064+00:00 kernel.cc:1214] Loading model from path /tmp/tmpqazfhrzs/model/ with prefix 0209dc6172d44d56\n",
      "[INFO 2025-01-27T21:40:13.994746745+00:00 kernel.cc:1046] Use fast generic engine\n"
     ]
    },
    {
     "name": "stdout",
     "output_type": "stream",
     "text": [
      "i:59\n"
     ]
    },
    {
     "name": "stderr",
     "output_type": "stream",
     "text": [
      "[INFO 2025-01-27T21:40:15.160485131+00:00 kernel.cc:1214] Loading model from path /tmp/tmp64exsmad/model/ with prefix dd08eb2e9f3648ea\n",
      "[INFO 2025-01-27T21:40:15.171243539+00:00 kernel.cc:1046] Use fast generic engine\n"
     ]
    },
    {
     "name": "stdout",
     "output_type": "stream",
     "text": [
      "i:60\n"
     ]
    },
    {
     "name": "stderr",
     "output_type": "stream",
     "text": [
      "[INFO 2025-01-27T21:40:16.308751319+00:00 kernel.cc:1214] Loading model from path /tmp/tmpljtq96vo/model/ with prefix 62acbd1257ba4789\n",
      "[INFO 2025-01-27T21:40:16.320063103+00:00 kernel.cc:1046] Use fast generic engine\n"
     ]
    },
    {
     "name": "stdout",
     "output_type": "stream",
     "text": [
      "i:61\n"
     ]
    },
    {
     "name": "stderr",
     "output_type": "stream",
     "text": [
      "[INFO 2025-01-27T21:40:17.412665691+00:00 kernel.cc:1214] Loading model from path /tmp/tmp_gp_1pok/model/ with prefix 6fb7e5b2103c400b\n",
      "[INFO 2025-01-27T21:40:17.418622407+00:00 abstract_model.cc:1311] Engine \"GradientBoostedTreesQuickScorerExtended\" built\n",
      "[INFO 2025-01-27T21:40:17.418681555+00:00 kernel.cc:1046] Use fast generic engine\n"
     ]
    },
    {
     "name": "stdout",
     "output_type": "stream",
     "text": [
      "i:62\n"
     ]
    },
    {
     "name": "stderr",
     "output_type": "stream",
     "text": [
      "[INFO 2025-01-27T21:40:19.048239343+00:00 kernel.cc:1214] Loading model from path /tmp/tmpivkam9_q/model/ with prefix 0b19b18ed354442b\n",
      "[INFO 2025-01-27T21:40:19.077570294+00:00 kernel.cc:1046] Use fast generic engine\n"
     ]
    },
    {
     "name": "stdout",
     "output_type": "stream",
     "text": [
      "i:63\n"
     ]
    },
    {
     "name": "stderr",
     "output_type": "stream",
     "text": [
      "[INFO 2025-01-27T21:40:20.204158572+00:00 kernel.cc:1214] Loading model from path /tmp/tmph7dmdvey/model/ with prefix 7f16b152c80245ca\n",
      "[INFO 2025-01-27T21:40:20.214465551+00:00 kernel.cc:1046] Use fast generic engine\n"
     ]
    },
    {
     "name": "stdout",
     "output_type": "stream",
     "text": [
      "i:64\n"
     ]
    },
    {
     "name": "stderr",
     "output_type": "stream",
     "text": [
      "[INFO 2025-01-27T21:40:21.35537222+00:00 kernel.cc:1214] Loading model from path /tmp/tmp2v8e7nzh/model/ with prefix b7a6462461d642ec\n",
      "[INFO 2025-01-27T21:40:21.364830199+00:00 kernel.cc:1046] Use fast generic engine\n"
     ]
    },
    {
     "name": "stdout",
     "output_type": "stream",
     "text": [
      "i:65\n"
     ]
    },
    {
     "name": "stderr",
     "output_type": "stream",
     "text": [
      "[INFO 2025-01-27T21:40:22.383163707+00:00 kernel.cc:1214] Loading model from path /tmp/tmpa210ouyu/model/ with prefix 5ce7024af91a45e2\n",
      "[INFO 2025-01-27T21:40:22.388714518+00:00 kernel.cc:1046] Use fast generic engine\n"
     ]
    },
    {
     "name": "stdout",
     "output_type": "stream",
     "text": [
      "i:66\n"
     ]
    },
    {
     "name": "stderr",
     "output_type": "stream",
     "text": [
      "[INFO 2025-01-27T21:40:23.420179266+00:00 kernel.cc:1214] Loading model from path /tmp/tmpbjzh4jyt/model/ with prefix 510a01c3f3f04d21\n",
      "[INFO 2025-01-27T21:40:23.427635477+00:00 kernel.cc:1046] Use fast generic engine\n"
     ]
    },
    {
     "name": "stdout",
     "output_type": "stream",
     "text": [
      "i:67\n"
     ]
    },
    {
     "name": "stderr",
     "output_type": "stream",
     "text": [
      "[INFO 2025-01-27T21:40:24.839379445+00:00 kernel.cc:1214] Loading model from path /tmp/tmpz03pjlyk/model/ with prefix e8ee3d2e76514c90\n",
      "[INFO 2025-01-27T21:40:24.860827347+00:00 kernel.cc:1046] Use fast generic engine\n"
     ]
    },
    {
     "name": "stdout",
     "output_type": "stream",
     "text": [
      "i:68\n"
     ]
    },
    {
     "name": "stderr",
     "output_type": "stream",
     "text": [
      "[INFO 2025-01-27T21:40:26.061455142+00:00 kernel.cc:1214] Loading model from path /tmp/tmpw8w69a_s/model/ with prefix 9528337ee9734445\n",
      "[INFO 2025-01-27T21:40:26.075078057+00:00 kernel.cc:1046] Use fast generic engine\n"
     ]
    },
    {
     "name": "stdout",
     "output_type": "stream",
     "text": [
      "i:69\n"
     ]
    },
    {
     "name": "stderr",
     "output_type": "stream",
     "text": [
      "[INFO 2025-01-27T21:40:27.162690123+00:00 kernel.cc:1214] Loading model from path /tmp/tmpta99m29l/model/ with prefix d18cf88f8fea406d\n",
      "[INFO 2025-01-27T21:40:27.170212004+00:00 kernel.cc:1046] Use fast generic engine\n"
     ]
    },
    {
     "name": "stdout",
     "output_type": "stream",
     "text": [
      "i:70\n"
     ]
    },
    {
     "name": "stderr",
     "output_type": "stream",
     "text": [
      "[INFO 2025-01-27T21:40:28.279368697+00:00 kernel.cc:1214] Loading model from path /tmp/tmp5kkpmxdt/model/ with prefix 34d98ba2209041f4\n",
      "[INFO 2025-01-27T21:40:28.289235847+00:00 abstract_model.cc:1311] Engine \"GradientBoostedTreesQuickScorerExtended\" built\n",
      "[INFO 2025-01-27T21:40:28.289286655+00:00 kernel.cc:1046] Use fast generic engine\n"
     ]
    },
    {
     "name": "stdout",
     "output_type": "stream",
     "text": [
      "i:71\n"
     ]
    },
    {
     "name": "stderr",
     "output_type": "stream",
     "text": [
      "[INFO 2025-01-27T21:40:29.348476405+00:00 kernel.cc:1214] Loading model from path /tmp/tmptp81o32c/model/ with prefix 6b35ad679f434dfb\n",
      "[INFO 2025-01-27T21:40:29.357147891+00:00 kernel.cc:1046] Use fast generic engine\n"
     ]
    },
    {
     "name": "stdout",
     "output_type": "stream",
     "text": [
      "i:72\n"
     ]
    },
    {
     "name": "stderr",
     "output_type": "stream",
     "text": [
      "[INFO 2025-01-27T21:40:30.654177178+00:00 kernel.cc:1214] Loading model from path /tmp/tmp1k558jgs/model/ with prefix 3ad7d946a9814e73\n",
      "[INFO 2025-01-27T21:40:30.673273271+00:00 kernel.cc:1046] Use fast generic engine\n"
     ]
    },
    {
     "name": "stdout",
     "output_type": "stream",
     "text": [
      "i:73\n"
     ]
    },
    {
     "name": "stderr",
     "output_type": "stream",
     "text": [
      "[INFO 2025-01-27T21:40:31.771922132+00:00 kernel.cc:1214] Loading model from path /tmp/tmpxx3y1k5z/model/ with prefix ae04945b32b34bc1\n",
      "[INFO 2025-01-27T21:40:31.7800747+00:00 kernel.cc:1046] Use fast generic engine\n"
     ]
    },
    {
     "name": "stdout",
     "output_type": "stream",
     "text": [
      "i:74\n"
     ]
    },
    {
     "name": "stderr",
     "output_type": "stream",
     "text": [
      "[INFO 2025-01-27T21:40:32.991588955+00:00 kernel.cc:1214] Loading model from path /tmp/tmp41jdkfo9/model/ with prefix 29d9123a3c584942\n",
      "[INFO 2025-01-27T21:40:33.004887825+00:00 kernel.cc:1046] Use fast generic engine\n"
     ]
    },
    {
     "name": "stdout",
     "output_type": "stream",
     "text": [
      "i:75\n"
     ]
    },
    {
     "name": "stderr",
     "output_type": "stream",
     "text": [
      "[INFO 2025-01-27T21:40:34.106782491+00:00 kernel.cc:1214] Loading model from path /tmp/tmp5jy8ropf/model/ with prefix 776fb9f7b44d4b8f\n",
      "[INFO 2025-01-27T21:40:34.116123398+00:00 kernel.cc:1046] Use fast generic engine\n"
     ]
    },
    {
     "name": "stdout",
     "output_type": "stream",
     "text": [
      "i:76\n"
     ]
    },
    {
     "name": "stderr",
     "output_type": "stream",
     "text": [
      "[INFO 2025-01-27T21:40:35.115019825+00:00 kernel.cc:1214] Loading model from path /tmp/tmpge00hwvj/model/ with prefix 176a3855d9904f1f\n",
      "[INFO 2025-01-27T21:40:35.119761395+00:00 kernel.cc:1046] Use fast generic engine\n"
     ]
    },
    {
     "name": "stdout",
     "output_type": "stream",
     "text": [
      "i:77\n"
     ]
    },
    {
     "name": "stderr",
     "output_type": "stream",
     "text": [
      "[INFO 2025-01-27T21:40:36.125004368+00:00 kernel.cc:1214] Loading model from path /tmp/tmpmjvs0f6z/model/ with prefix 3b65c950c0684b59\n",
      "[INFO 2025-01-27T21:40:36.130364021+00:00 kernel.cc:1046] Use fast generic engine\n"
     ]
    },
    {
     "name": "stdout",
     "output_type": "stream",
     "text": [
      "i:78\n"
     ]
    },
    {
     "name": "stderr",
     "output_type": "stream",
     "text": [
      "[INFO 2025-01-27T21:40:37.169563031+00:00 kernel.cc:1214] Loading model from path /tmp/tmpbfn_0n4e/model/ with prefix 50d80615c9254a08\n",
      "[INFO 2025-01-27T21:40:37.177207382+00:00 kernel.cc:1046] Use fast generic engine\n"
     ]
    },
    {
     "name": "stdout",
     "output_type": "stream",
     "text": [
      "i:79\n"
     ]
    },
    {
     "name": "stderr",
     "output_type": "stream",
     "text": [
      "[INFO 2025-01-27T21:40:38.212790244+00:00 kernel.cc:1214] Loading model from path /tmp/tmpcdyg1_zt/model/ with prefix b8c234350ff44726\n",
      "[INFO 2025-01-27T21:40:38.220787273+00:00 kernel.cc:1046] Use fast generic engine\n"
     ]
    },
    {
     "name": "stdout",
     "output_type": "stream",
     "text": [
      "i:80\n"
     ]
    },
    {
     "name": "stderr",
     "output_type": "stream",
     "text": [
      "[INFO 2025-01-27T21:40:39.382597038+00:00 kernel.cc:1214] Loading model from path /tmp/tmp2s9_wc27/model/ with prefix cd4ffdf2483e42c9\n",
      "[INFO 2025-01-27T21:40:39.394604034+00:00 abstract_model.cc:1311] Engine \"GradientBoostedTreesQuickScorerExtended\" built\n",
      "[INFO 2025-01-27T21:40:39.394656782+00:00 kernel.cc:1046] Use fast generic engine\n"
     ]
    },
    {
     "name": "stdout",
     "output_type": "stream",
     "text": [
      "i:81\n"
     ]
    },
    {
     "name": "stderr",
     "output_type": "stream",
     "text": [
      "[INFO 2025-01-27T21:40:40.609727735+00:00 kernel.cc:1214] Loading model from path /tmp/tmpsepo5x0y/model/ with prefix 5c5f31f48b72453e\n",
      "[INFO 2025-01-27T21:40:40.622527653+00:00 kernel.cc:1046] Use fast generic engine\n"
     ]
    },
    {
     "name": "stdout",
     "output_type": "stream",
     "text": [
      "i:82\n"
     ]
    },
    {
     "name": "stderr",
     "output_type": "stream",
     "text": [
      "[INFO 2025-01-27T21:40:41.80730199+00:00 kernel.cc:1214] Loading model from path /tmp/tmpvdm9f69w/model/ with prefix 630606524f3b4c95\n",
      "[INFO 2025-01-27T21:40:41.818743827+00:00 kernel.cc:1046] Use fast generic engine\n"
     ]
    },
    {
     "name": "stdout",
     "output_type": "stream",
     "text": [
      "i:83\n"
     ]
    },
    {
     "name": "stderr",
     "output_type": "stream",
     "text": [
      "[INFO 2025-01-27T21:40:43.01056951+00:00 kernel.cc:1214] Loading model from path /tmp/tmp2hesl_jw/model/ with prefix c7355698845d45ce\n",
      "[INFO 2025-01-27T21:40:43.020860638+00:00 kernel.cc:1046] Use fast generic engine\n"
     ]
    },
    {
     "name": "stdout",
     "output_type": "stream",
     "text": [
      "i:84\n"
     ]
    },
    {
     "name": "stderr",
     "output_type": "stream",
     "text": [
      "[INFO 2025-01-27T21:40:45.215404579+00:00 kernel.cc:1214] Loading model from path /tmp/tmpo5ev62gn/model/ with prefix 36052efe3ec24b41\n",
      "[INFO 2025-01-27T21:40:45.236814531+00:00 kernel.cc:1046] Use fast generic engine\n"
     ]
    },
    {
     "name": "stdout",
     "output_type": "stream",
     "text": [
      "i:85\n"
     ]
    },
    {
     "name": "stderr",
     "output_type": "stream",
     "text": [
      "[INFO 2025-01-27T21:40:46.375079992+00:00 kernel.cc:1214] Loading model from path /tmp/tmpte4rksch/model/ with prefix 3fc3082b3b344018\n",
      "[INFO 2025-01-27T21:40:46.383175731+00:00 kernel.cc:1046] Use fast generic engine\n"
     ]
    },
    {
     "name": "stdout",
     "output_type": "stream",
     "text": [
      "i:86\n"
     ]
    },
    {
     "name": "stderr",
     "output_type": "stream",
     "text": [
      "[INFO 2025-01-27T21:40:47.83156191+00:00 kernel.cc:1214] Loading model from path /tmp/tmpu59lyg0p/model/ with prefix 4f9512c25b334876\n",
      "[INFO 2025-01-27T21:40:47.850553931+00:00 kernel.cc:1046] Use fast generic engine\n"
     ]
    },
    {
     "name": "stdout",
     "output_type": "stream",
     "text": [
      "i:87\n"
     ]
    },
    {
     "name": "stderr",
     "output_type": "stream",
     "text": [
      "[INFO 2025-01-27T21:40:49.374330475+00:00 kernel.cc:1214] Loading model from path /tmp/tmp48b_3j1l/model/ with prefix 1c9345664f6e4de9\n",
      "[INFO 2025-01-27T21:40:49.395854482+00:00 abstract_model.cc:1311] Engine \"GradientBoostedTreesQuickScorerExtended\" built\n",
      "[INFO 2025-01-27T21:40:49.395923048+00:00 kernel.cc:1046] Use fast generic engine\n"
     ]
    },
    {
     "name": "stdout",
     "output_type": "stream",
     "text": [
      "i:88\n"
     ]
    },
    {
     "name": "stderr",
     "output_type": "stream",
     "text": [
      "[INFO 2025-01-27T21:40:50.643469387+00:00 kernel.cc:1214] Loading model from path /tmp/tmpsab1iw6h/model/ with prefix 418ba04d44dc46f5\n",
      "[INFO 2025-01-27T21:40:50.656720142+00:00 kernel.cc:1046] Use fast generic engine\n"
     ]
    },
    {
     "name": "stdout",
     "output_type": "stream",
     "text": [
      "i:89\n"
     ]
    },
    {
     "name": "stderr",
     "output_type": "stream",
     "text": [
      "[INFO 2025-01-27T21:40:51.74399723+00:00 kernel.cc:1214] Loading model from path /tmp/tmpdm11llky/model/ with prefix 3efb79c833f64007\n",
      "[INFO 2025-01-27T21:40:51.74968731+00:00 kernel.cc:1046] Use fast generic engine\n"
     ]
    },
    {
     "name": "stdout",
     "output_type": "stream",
     "text": [
      "i:90\n"
     ]
    },
    {
     "name": "stderr",
     "output_type": "stream",
     "text": [
      "[INFO 2025-01-27T21:40:53.015010425+00:00 kernel.cc:1214] Loading model from path /tmp/tmp86gnupkp/model/ with prefix 40b84213755d4ccf\n",
      "[INFO 2025-01-27T21:40:53.026877384+00:00 kernel.cc:1046] Use fast generic engine\n"
     ]
    },
    {
     "name": "stdout",
     "output_type": "stream",
     "text": [
      "i:91\n"
     ]
    },
    {
     "name": "stderr",
     "output_type": "stream",
     "text": [
      "[INFO 2025-01-27T21:40:54.132308854+00:00 kernel.cc:1214] Loading model from path /tmp/tmp83k1os1c/model/ with prefix e7d2482e055a4d92\n",
      "[INFO 2025-01-27T21:40:54.140220386+00:00 kernel.cc:1046] Use fast generic engine\n"
     ]
    },
    {
     "name": "stdout",
     "output_type": "stream",
     "text": [
      "i:92\n"
     ]
    },
    {
     "name": "stderr",
     "output_type": "stream",
     "text": [
      "[INFO 2025-01-27T21:40:55.576206859+00:00 kernel.cc:1214] Loading model from path /tmp/tmp2btvaozg/model/ with prefix 4f9f22e020484882\n",
      "[INFO 2025-01-27T21:40:55.596800542+00:00 kernel.cc:1046] Use fast generic engine\n"
     ]
    },
    {
     "name": "stdout",
     "output_type": "stream",
     "text": [
      "i:93\n"
     ]
    },
    {
     "name": "stderr",
     "output_type": "stream",
     "text": [
      "[INFO 2025-01-27T21:40:56.779678161+00:00 kernel.cc:1214] Loading model from path /tmp/tmplyhp9noj/model/ with prefix 045fd3b844e84bac\n",
      "[INFO 2025-01-27T21:40:56.791338042+00:00 kernel.cc:1046] Use fast generic engine\n"
     ]
    },
    {
     "name": "stdout",
     "output_type": "stream",
     "text": [
      "i:94\n"
     ]
    },
    {
     "name": "stderr",
     "output_type": "stream",
     "text": [
      "[INFO 2025-01-27T21:40:57.893897332+00:00 kernel.cc:1214] Loading model from path /tmp/tmpeg5l32k5/model/ with prefix cdf3d8415c854cc8\n",
      "[INFO 2025-01-27T21:40:57.90157933+00:00 kernel.cc:1046] Use fast generic engine\n"
     ]
    },
    {
     "name": "stdout",
     "output_type": "stream",
     "text": [
      "i:95\n"
     ]
    },
    {
     "name": "stderr",
     "output_type": "stream",
     "text": [
      "[INFO 2025-01-27T21:40:59.05954589+00:00 kernel.cc:1214] Loading model from path /tmp/tmpfi0i6f9c/model/ with prefix 38a51081e9e74d8c\n",
      "[INFO 2025-01-27T21:40:59.069071042+00:00 kernel.cc:1046] Use fast generic engine\n"
     ]
    },
    {
     "name": "stdout",
     "output_type": "stream",
     "text": [
      "i:96\n"
     ]
    },
    {
     "name": "stderr",
     "output_type": "stream",
     "text": [
      "[INFO 2025-01-27T21:41:00.267387304+00:00 kernel.cc:1214] Loading model from path /tmp/tmpbbwffpxl/model/ with prefix 6337687daa7a4eb0\n",
      "[INFO 2025-01-27T21:41:00.278790608+00:00 abstract_model.cc:1311] Engine \"GradientBoostedTreesQuickScorerExtended\" built\n",
      "[INFO 2025-01-27T21:41:00.278838861+00:00 kernel.cc:1046] Use fast generic engine\n"
     ]
    },
    {
     "name": "stdout",
     "output_type": "stream",
     "text": [
      "i:97\n"
     ]
    },
    {
     "name": "stderr",
     "output_type": "stream",
     "text": [
      "[INFO 2025-01-27T21:41:01.359309253+00:00 kernel.cc:1214] Loading model from path /tmp/tmpt0sp8ee3/model/ with prefix 333cef0181654fe7\n",
      "[INFO 2025-01-27T21:41:01.365326461+00:00 kernel.cc:1046] Use fast generic engine\n"
     ]
    },
    {
     "name": "stdout",
     "output_type": "stream",
     "text": [
      "i:98\n"
     ]
    },
    {
     "name": "stderr",
     "output_type": "stream",
     "text": [
      "[INFO 2025-01-27T21:41:02.479408466+00:00 kernel.cc:1214] Loading model from path /tmp/tmpvfttlfdm/model/ with prefix abff122c1c4447d8\n",
      "[INFO 2025-01-27T21:41:02.488260853+00:00 kernel.cc:1046] Use fast generic engine\n"
     ]
    },
    {
     "name": "stdout",
     "output_type": "stream",
     "text": [
      "i:99\n"
     ]
    },
    {
     "name": "stderr",
     "output_type": "stream",
     "text": [
      "[INFO 2025-01-27T21:41:03.801156634+00:00 kernel.cc:1214] Loading model from path /tmp/tmpu0fd_ney/model/ with prefix 8ed75b5f792b4416\n",
      "[INFO 2025-01-27T21:41:03.817820683+00:00 kernel.cc:1046] Use fast generic engine\n"
     ]
    },
    {
     "name": "stdout",
     "output_type": "stream",
     "text": [
      "Submission exported to /kaggle/working/submission.csv\n"
     ]
    }
   ],
   "source": [
    "predictions = None\n",
    "num_predictions = 0\n",
    "\n",
    "for i in range(100):\n",
    "    print(f\"i:{i}\")\n",
    "    # Possible models: GradientBoostedTreesModel or RandomForestModel\n",
    "    model = tfdf.keras.GradientBoostedTreesModel(\n",
    "        verbose=0, # Very few logs\n",
    "        features=[tfdf.keras.FeatureUsage(name=n) for n in input_features],\n",
    "        exclude_non_specified_features=True, # Only use the features in \"features\"\n",
    "\n",
    "        #min_examples=1,\n",
    "        #categorical_algorithm=\"RANDOM\",\n",
    "        ##max_depth=4,\n",
    "        #shrinkage=0.05,\n",
    "        ##num_candidate_attributes_ratio=0.2,\n",
    "        #split_axis=\"SPARSE_OBLIQUE\",\n",
    "        #sparse_oblique_normalization=\"MIN_MAX\",\n",
    "        #sparse_oblique_num_projections_exponent=2.0,\n",
    "        #num_trees=2000,\n",
    "        ##validation_ratio=0.0,\n",
    "        random_seed=i,\n",
    "        honest=True,\n",
    "    )\n",
    "    model.fit(train_ds)\n",
    "    \n",
    "    sub_predictions = model.predict(serving_ds, verbose=0)[:,0]\n",
    "    if predictions is None:\n",
    "        predictions = sub_predictions\n",
    "    else:\n",
    "        predictions += sub_predictions\n",
    "    num_predictions += 1\n",
    "\n",
    "predictions/=num_predictions\n",
    "\n",
    "kaggle_predictions = pd.DataFrame({\n",
    "        \"PassengerId\": serving_df[\"PassengerId\"],\n",
    "        \"Survived\": (predictions >= 0.5).astype(int)\n",
    "    })\n",
    "\n",
    "make_submission(kaggle_predictions)"
   ]
  },
  {
   "cell_type": "markdown",
   "id": "e5766181",
   "metadata": {
    "papermill": {
     "duration": 0.016457,
     "end_time": "2025-01-27T21:41:04.288391",
     "exception": false,
     "start_time": "2025-01-27T21:41:04.271934",
     "status": "completed"
    },
    "tags": []
   },
   "source": [
    "# What is next\n",
    "\n",
    "If you want to learn more about TensorFlow Decision Forests and its advanced features, you can follow the official documentation [here](https://www.tensorflow.org/decision_forests) "
   ]
  }
 ],
 "metadata": {
  "kaggle": {
   "accelerator": "none",
   "dataSources": [
    {
     "databundleVersionId": 26502,
     "sourceId": 3136,
     "sourceType": "competition"
    }
   ],
   "dockerImageVersionId": 30458,
   "isGpuEnabled": false,
   "isInternetEnabled": true,
   "language": "python",
   "sourceType": "notebook"
  },
  "kernelspec": {
   "display_name": "Python 3",
   "language": "python",
   "name": "python3"
  },
  "language_info": {
   "codemirror_mode": {
    "name": "ipython",
    "version": 3
   },
   "file_extension": ".py",
   "mimetype": "text/x-python",
   "name": "python",
   "nbconvert_exporter": "python",
   "pygments_lexer": "ipython3",
   "version": "3.7.12"
  },
  "papermill": {
   "default_parameters": {},
   "duration": 280.703082,
   "end_time": "2025-01-27T21:41:07.100086",
   "environment_variables": {},
   "exception": null,
   "input_path": "__notebook__.ipynb",
   "output_path": "__notebook__.ipynb",
   "parameters": {},
   "start_time": "2025-01-27T21:36:26.397004",
   "version": "2.4.0"
  }
 },
 "nbformat": 4,
 "nbformat_minor": 5
}
